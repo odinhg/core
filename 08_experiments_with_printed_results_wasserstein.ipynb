{
 "cells": [
  {
   "cell_type": "markdown",
   "id": "34553253-8c64-4d1c-8f74-11ef42ada07a",
   "metadata": {},
   "source": [
    "# Experiments\n",
    "\n",
    "Run this notebook to reproduce the experiments from the paper."
   ]
  },
  {
   "cell_type": "code",
   "execution_count": 1,
   "id": "49e1ef2f-1795-4456-89e9-599a51e1f30d",
   "metadata": {},
   "outputs": [],
   "source": [
    "%load_ext autoreload\n",
    "%autoreload 2\n",
    "\n",
    "%load_ext line_profiler\n",
    "# %load_ext cython"
   ]
  },
  {
   "cell_type": "code",
   "execution_count": 2,
   "id": "fac5696d-9549-4f2f-b0c8-01678c4adb74",
   "metadata": {},
   "outputs": [],
   "source": [
    "import math\n",
    "import gudhi\n",
    "from gudhi.hera import wasserstein_distance\n",
    "import numpy as np\n",
    "import matplotlib.pyplot as plt\n",
    "from itertools import combinations\n",
    "from miniball import Miniball\n",
    "from scipy.spatial import KDTree\n",
    "\n",
    "from datasets_morten import sample_circle, sample_rectangle, sample_torus, sample_cube, sample_flat_torus, sample_sphere\n",
    "import warnings\n",
    "import os\n",
    "warnings.filterwarnings('ignore')"
   ]
  },
  {
   "cell_type": "markdown",
   "id": "ed9f44f1-8259-4b00-ad42-639be3271037",
   "metadata": {},
   "source": [
    "## Function definitions"
   ]
  },
  {
   "cell_type": "markdown",
   "id": "5214e71b-54d1-460f-bae4-834049d8e407",
   "metadata": {},
   "source": [
    "### Compute distances to k-nearest neighbors in X"
   ]
  },
  {
   "cell_type": "code",
   "execution_count": 3,
   "id": "747eba5a-1b37-401d-96e5-e7d9de431eb9",
   "metadata": {},
   "outputs": [],
   "source": [
    "def k_nearest_neighbor_distances(X, k):\n",
    "    kd_tree = KDTree(X)\n",
    "    k_core_distances, _ = kd_tree.query(X, k=k, workers=-1)\n",
    "    return k_core_distances  "
   ]
  },
  {
   "cell_type": "markdown",
   "id": "c0075a42-0d4b-40c4-826f-1dbcb135397b",
   "metadata": {},
   "source": [
    "### Compute filtration values of faces from squared radius and core values"
   ]
  },
  {
   "cell_type": "code",
   "execution_count": 4,
   "id": "7fc44240-2a76-491d-991a-6c10684cb917",
   "metadata": {},
   "outputs": [],
   "source": [
    "def core_value(face, squared_radius, core_values):\n",
    "    max_core = max(core_values[face]) \n",
    "    return max(squared_radius ** 0.5, max_core)"
   ]
  },
  {
   "cell_type": "markdown",
   "id": "4e2f1233-5989-4e0b-817f-1ec7c95f2693",
   "metadata": {},
   "source": [
    "### Compute core value for each points"
   ]
  },
  {
   "cell_type": "code",
   "execution_count": 5,
   "id": "f2f4888f-86e8-4584-9254-1adc605decf0",
   "metadata": {},
   "outputs": [],
   "source": [
    "def vertex_values(X, max_k, max_r):\n",
    "    if max_r is None or max_k <= 1:\n",
    "        return k_nearest_neighbor_distances(X, k=[max_k])\n",
    "    k_core_distances = k_nearest_neighbor_distances(X, np.arange(1, max_k + 1))\n",
    "    line = np.linspace(max_r, 0, num=max_k)\n",
    "    if max_k>1:\n",
    "        indices = np.argmax(line <= k_core_distances, axis=1)\n",
    "        values = k_core_distances[np.arange(len(k_core_distances)), indices]\n",
    "        values[values > max_r] = max_r\n",
    "    else:\n",
    "        values = np.array(k_core_distances)\n",
    "    return values"
   ]
  },
  {
   "cell_type": "markdown",
   "id": "4cf7a37d-9c22-4780-956d-82e7258f5d90",
   "metadata": {},
   "source": [
    "### Compute core simplex tree from a simplex tree filtered by squared radius and a point cloud"
   ]
  },
  {
   "cell_type": "code",
   "execution_count": 6,
   "id": "4989a84c-d5a6-4a9b-b138-fa20d0b837a9",
   "metadata": {},
   "outputs": [],
   "source": [
    "def core_complex(X, st, max_k, max_r=None):\n",
    "    k_core_distances = vertex_values(X, max_k, max_r)**2\n",
    "    for vertex in range(X.shape[0]):\n",
    "        st.assign_filtration([vertex], k_core_distances[vertex])\n",
    "    st.make_filtration_non_decreasing()\n",
    "    return st"
   ]
  },
  {
   "cell_type": "markdown",
   "id": "e3274b06-3b2b-4fa8-9c89-5fad6bb753ce",
   "metadata": {},
   "source": [
    "### Compute simplex tree of a point cloud filtered by squared radius"
   ]
  },
  {
   "cell_type": "code",
   "execution_count": 7,
   "id": "0889802e-9ba8-4249-95cb-3144688bfa95",
   "metadata": {},
   "outputs": [],
   "source": [
    "def cech_squared_radius(X, max_dim=1):\n",
    "    st = gudhi.SimplexTree()\n",
    "    for dim in range(max_dim+1):\n",
    "        for face in combinations(range(len(X)),dim+1):\n",
    "            val = Miniball(X[list(face)]).squared_radius()\n",
    "            st.insert(face, val)\n",
    "    return st"
   ]
  },
  {
   "cell_type": "markdown",
   "id": "115b30a1-97cc-4948-8b9b-d1b8cce9d39e",
   "metadata": {},
   "source": [
    "### Construct core cech simplex tree"
   ]
  },
  {
   "cell_type": "code",
   "execution_count": 8,
   "id": "ee5436a4-86de-4aec-a0b7-da0903bac654",
   "metadata": {},
   "outputs": [],
   "source": [
    "def core_cech(X, max_k=10, max_r=None, max_dim=1):\n",
    "    st = cech_squared_radius(X, max_dim=max_dim)\n",
    "    return core_complex(X, st, max_k, max_r)"
   ]
  },
  {
   "cell_type": "markdown",
   "id": "9261fc5a-5017-46fb-8ea2-85098d3746c8",
   "metadata": {},
   "source": [
    "### Construct core alpha simplex tree"
   ]
  },
  {
   "cell_type": "code",
   "execution_count": 9,
   "id": "65f0c06d-39b0-4cc2-92df-aac82e9432e1",
   "metadata": {},
   "outputs": [],
   "source": [
    "def core_alpha(X, max_k=10, max_r=None, precision='safe'):\n",
    "    st = gudhi.AlphaComplex(points=X, precision=precision).create_simplex_tree()\n",
    "    return core_complex(X, st, max_k, max_r)"
   ]
  },
  {
   "cell_type": "code",
   "execution_count": 10,
   "id": "e8b467ee-803b-4358-ba4a-e8aa40e7033b",
   "metadata": {},
   "outputs": [],
   "source": [
    "def sqrt_persistence(st):\n",
    "    persistence = st.persistence()\n",
    "    return [(dim, (birth**.5, death**.5)) for dim, (birth, death) in persistence]"
   ]
  },
  {
   "cell_type": "code",
   "execution_count": 11,
   "id": "9128c2b7-9126-4754-bf2c-c72ca82a37a3",
   "metadata": {},
   "outputs": [],
   "source": [
    "def plot_sqrt_persistence(st, axes=None):\n",
    "    return gudhi.plot_persistence_diagram(sqrt_persistence(st), axes=axes)"
   ]
  },
  {
   "cell_type": "code",
   "execution_count": 12,
   "id": "bfa8f6c2-124e-4c1c-acaf-9e8e43743e11",
   "metadata": {},
   "outputs": [],
   "source": [
    "def persistence_intervals_in_dimension(persistence, dim):\n",
    "    return np.array([(b, d) for dimension, (b, d) in persistence if dimension == dim])    "
   ]
  },
  {
   "cell_type": "code",
   "execution_count": 13,
   "id": "c507f91f-5585-4b1e-93fa-78ae36e10c26",
   "metadata": {},
   "outputs": [],
   "source": [
    "def persistence_diagrams(\n",
    "    X, max_ss: list[int] = [1, 10, 100, 1000], \n",
    "    max_r: float | None = -1\n",
    ") -> list[tuple[int, tuple[int, int]]]:\n",
    "    if max_r < 0:\n",
    "        max_r = 2*math.sqrt(Miniball(X).squared_radius())\n",
    "    res = []\n",
    "    for i, max_s in enumerate(max_ss):\n",
    "        max_k = max(1, int((M + N) * max_s))\n",
    "        st = core_alpha(X, max_k=max_k, max_r=max_r)\n",
    "        persistence = sqrt_persistence(st)\n",
    "        res.append(persistence)\n",
    "    return res"
   ]
  },
  {
   "cell_type": "code",
   "execution_count": 14,
   "id": "4857988b-e248-4670-8231-6337b29df1db",
   "metadata": {},
   "outputs": [],
   "source": [
    "def bottleneck_distances(pers1, pers2, dim):\n",
    "    assert len(pers1) == len(pers2)\n",
    "    n = len(pers1)\n",
    "    A = np.zeros(n)\n",
    "    for i in range(n):\n",
    "        a = persistence_intervals_in_dimension(pers1[i], dim)\n",
    "        b = persistence_intervals_in_dimension(pers2[i], dim)\n",
    "        bdist = gudhi.bottleneck_distance(a, b)\n",
    "        A[i] = bdist\n",
    "    return A"
   ]
  },
  {
   "cell_type": "code",
   "execution_count": 15,
   "id": "9236c9bd-2ba8-48e9-b8e5-4494629e92ee",
   "metadata": {},
   "outputs": [],
   "source": [
    "def plot_persistence_diagrams(pers_diagrams, max_ks, max_r, title=\"Alpha Čech\"):\n",
    "    fig, axs = plt.subplots(ncols=len(max_ks), figsize=(14, 14 / len(max_ks)))\n",
    "    fig.suptitle(title)\n",
    "    for i, (pers, max_k) in enumerate(zip(pers_diagrams, max_ks)):\n",
    "        gudhi.plot_persistence_diagram(pers, axes=axs[i])\n",
    "        # st_core = core_cech(X, max_dim=2, max_k=max_k, max_r=max_r)\n",
    "        # plot_sqrt_persistence(st_core, axes=axs[i])\n",
    "        # gudhi.plot_persistence_diagram(st_core.persistence(), axes=axs[i])\n",
    "        axs[i].set_title(f\"max_k={max_k}, max_r={max_r:.2f}\")\n",
    "    fig.tight_layout()\n",
    "    return fig    "
   ]
  },
  {
   "cell_type": "code",
   "execution_count": 16,
   "id": "2c271bc3-cd85-441b-bc17-8e85e5d8e7af",
   "metadata": {},
   "outputs": [],
   "source": [
    "def circle_with_noise(M, N, sigma, rng=None, seed=0):\n",
    "    if rng is None:\n",
    "        rng = np.random.default_rng(seed=seed)\n",
    "    Z = sample_circle(N, rng, std=sigma)\n",
    "    upper_right_corner = np.maximum(np.max(Z, axis=0), -np.min(Z, axis=0))\n",
    "    Y = sample_rectangle(M, rng, lower_left_corner=-upper_right_corner, upper_right_corner=upper_right_corner)\n",
    "    return np.r_[Z, Y]    "
   ]
  },
  {
   "cell_type": "code",
   "execution_count": 17,
   "id": "ee5fde7c-8327-4895-ac46-922687aeda52",
   "metadata": {},
   "outputs": [],
   "source": [
    "def two_circles_with_noise(M, N, sigma, rng=None, seed=0):\n",
    "    if rng is None:\n",
    "        rng = np.random.default_rng(seed=seed)\n",
    "    N1 = (2 * N) // 3\n",
    "    N2 = N // 3 \n",
    "    \n",
    "    Z1 = sample_circle(N1, rng, r=1, std=sigma)\n",
    "    Z2 = sample_circle(N2, rng, r=0.5, std=sigma)\n",
    "    Z = np.r_[Z1, Z2]\n",
    "    \n",
    "    upper_right_corner = np.maximum(np.max(Z, axis=0), -np.min(Z, axis=0))\n",
    "    Y = sample_rectangle(M, rng, lower_left_corner=-upper_right_corner, upper_right_corner=upper_right_corner)\n",
    "    return np.r_[Z1, Z2, Y]"
   ]
  },
  {
   "cell_type": "code",
   "execution_count": 18,
   "id": "a5bd73f8-7e8a-4b8a-8380-def12b42e983",
   "metadata": {},
   "outputs": [],
   "source": [
    "def embedded_torus(M, N, sigma, rng=None, seed=0):\n",
    "    if rng is None:\n",
    "        rng = np.random.default_rng(seed=seed)\n",
    "    Z = sample_torus(N, rng, a=1, b=3, std=sigma)\n",
    "    upper_right_corner = np.maximum(np.max(Z, axis=0), -np.min(Z, axis=0))\n",
    "    Y = sample_rectangle(M, rng, lower_left_corner=-upper_right_corner, upper_right_corner=upper_right_corner)\n",
    "    return np.r_[Z, Y]"
   ]
  },
  {
   "cell_type": "code",
   "execution_count": 19,
   "id": "6d4bdbbf-550a-4cb0-974f-a9d5232a3b73",
   "metadata": {},
   "outputs": [],
   "source": [
    "def sphere(M, N, sigma, rng=None, seed=0):\n",
    "    if rng is None:\n",
    "        rng = np.random.default_rng(seed=seed)\n",
    "    Z = sample_sphere(N, rng, std=sigma)\n",
    "    upper_right_corner = np.maximum(np.max(Z, axis=0), -np.min(Z, axis=0))\n",
    "    Y = sample_rectangle(M, rng, lower_left_corner=-upper_right_corner, upper_right_corner=upper_right_corner)\n",
    "    return np.r_[Z, Y]"
   ]
  },
  {
   "cell_type": "code",
   "execution_count": 20,
   "id": "a24b6696-d759-4a48-a088-1d5433b1ae71",
   "metadata": {},
   "outputs": [],
   "source": [
    "def clifford_torus(M, N, sigma, rng=None, seed=0):\n",
    "    if rng is None:\n",
    "        rng = np.random.default_rng(seed=seed)\n",
    "    Z = sample_flat_torus(N, rng, std=sigma)\n",
    "    upper_right_corner = np.maximum(np.max(Z, axis=0), -np.min(Z, axis=0))\n",
    "    Y = sample_rectangle(M, rng, lower_left_corner=-upper_right_corner, upper_right_corner=upper_right_corner)\n",
    "    return np.r_[Z, Y]"
   ]
  },
  {
   "cell_type": "code",
   "execution_count": 21,
   "id": "913eea65-1d38-46c5-b840-b87890d6ff25",
   "metadata": {},
   "outputs": [],
   "source": [
    "def bottleneck_distance_experiment(\n",
    "    Ms, Ns, max_ss=[0, 0.001, 0.01, 0.1], sigma=0.07, max_r=-1, \n",
    "    point_generator=circle_with_noise, seed=0):\n",
    "    rng = np.random.default_rng(seed=seed)\n",
    "    X = point_generator(0, 5, sigma=0, rng=rng)\n",
    "    dimensions = range(X.shape[1])\n",
    "    res = {dim: [] for dim in dimensions}\n",
    "    for M, N in zip(Ms, Ns):\n",
    "        print(f\"M={M}, N={N}\")\n",
    "        X = point_generator(0, M + N, sigma=0, rng=rng)\n",
    "        st_ideal = core_alpha(X, max_k=1, max_r=None)#max_r)\n",
    "        persistence_ideal = sqrt_persistence(st_ideal)    \n",
    "        for max_s in max_ss:\n",
    "            X = point_generator(M, N, sigma, rng=rng)\n",
    "            if max_r is not None:\n",
    "                max_r = 2*math.sqrt(Miniball(X).squared_radius())\n",
    "            max_k = max(1, int((M + N) * max_s))\n",
    "            print(f\"\\tmax_s={max_s} (max_k = {max_k})\")\n",
    "            st = core_alpha(X, max_k=max_k, max_r=max_r)\n",
    "            persistence = sqrt_persistence(st)\n",
    "            for dim in dimensions:\n",
    "                res[dim].append(\n",
    "                    wasserstein_distance(\n",
    "                        persistence_intervals_in_dimension(persistence, dim),\n",
    "                        persistence_intervals_in_dimension(persistence_ideal, dim), order=1, internal_p=1))\n",
    "    return res\n",
    "        \n",
    "        "
   ]
  },
  {
   "cell_type": "code",
   "execution_count": 22,
   "id": "ec5e3346-f990-4111-a26c-588949a51302",
   "metadata": {},
   "outputs": [],
   "source": [
    "def formatted_bottleneck_results(bottleneck_distances, Ms, Ns, max_ss):\n",
    "    res = [f\"Ns={Ns} Ms={Ms} max_ss={max_ss}\"]\n",
    "    for dim in bottleneck_distances.keys():\n",
    "        res.append(f\"Dim {dim} & \" + \" & \".join([f\"{dist:.3f}\" for dist in bottleneck_distances[dim]]))\n",
    "    return res"
   ]
  },
  {
   "cell_type": "code",
   "execution_count": 23,
   "id": "0fa3e43e-3261-4c4a-946d-184f09caef56",
   "metadata": {},
   "outputs": [],
   "source": [
    "def run_experiments(\n",
    "    point_generators,\n",
    "    Ms,\n",
    "    Ns,\n",
    "    max_ss,\n",
    "    names=None,\n",
    "    sigma=0.07,\n",
    "    seed=0,\n",
    "    max_r=-1,\n",
    "):\n",
    "    res = []\n",
    "    for idx, generator in enumerate(point_generators):\n",
    "        if names is not None:\n",
    "            name = names[idx]\n",
    "        else:\n",
    "            name = 'Unknown'\n",
    "        print(f\"Running experiments for {name}\")\n",
    "        bottleneck_dists = bottleneck_distance_experiment(\n",
    "            Ms = Ms, Ns=Ns, max_ss=max_ss, point_generator=generator, sigma=sigma, seed=seed, max_r=max_r)\n",
    "        res.append([name] +\n",
    "                   formatted_bottleneck_results(bottleneck_dists, Ms, Ns, max_ss))\n",
    "    return res"
   ]
  },
  {
   "cell_type": "code",
   "execution_count": 24,
   "id": "38bd93bc-7143-43aa-9df4-d9c85c42a835",
   "metadata": {},
   "outputs": [],
   "source": [
    "Ms = [10_000, 1_000, 100]\n",
    "Ns = [10_000, 10_000, 10_000]\n",
    "max_ss=[0, 0.001, 0.01, 0.1]\n",
    "sigma = 0.07\n",
    "seed = 0\n",
    "point_generators = [circle_with_noise, two_circles_with_noise, sphere, embedded_torus, clifford_torus]\n",
    "names = [\"Circle\", \"Circles\", \"Sphere\", \"Torus 1\", \"Torus 2\"]"
   ]
  },
  {
   "cell_type": "markdown",
   "id": "d0664d99-38e3-4e6c-b0a6-77a29eeac74a",
   "metadata": {},
   "source": [
    "# Persistence along a line"
   ]
  },
  {
   "cell_type": "code",
   "execution_count": null,
   "id": "575343e0-a007-4d84-b09b-3cc5c62a65b1",
   "metadata": {},
   "outputs": [
    {
     "name": "stdout",
     "output_type": "stream",
     "text": [
      "Running experiments for Circle\n",
      "M=10000, N=10000\n",
      "\tmax_s=0 (max_k = 1)\n",
      "\tmax_s=0.001 (max_k = 20)\n",
      "\tmax_s=0.01 (max_k = 200)\n",
      "\tmax_s=0.1 (max_k = 2000)\n",
      "M=1000, N=10000\n",
      "\tmax_s=0 (max_k = 1)\n",
      "\tmax_s=0.001 (max_k = 11)\n",
      "\tmax_s=0.01 (max_k = 110)\n",
      "\tmax_s=0.1 (max_k = 1100)\n",
      "M=100, N=10000\n",
      "\tmax_s=0 (max_k = 1)\n",
      "\tmax_s=0.001 (max_k = 10)\n",
      "\tmax_s=0.01 (max_k = 101)\n",
      "\tmax_s=0.1 (max_k = 1010)\n",
      "Running experiments for Circles\n",
      "M=10000, N=10000\n",
      "\tmax_s=0 (max_k = 1)\n",
      "\tmax_s=0.001 (max_k = 20)\n",
      "\tmax_s=0.01 (max_k = 200)\n",
      "\tmax_s=0.1 (max_k = 2000)\n",
      "M=1000, N=10000\n",
      "\tmax_s=0 (max_k = 1)\n",
      "\tmax_s=0.001 (max_k = 11)\n",
      "\tmax_s=0.01 (max_k = 110)\n",
      "\tmax_s=0.1 (max_k = 1100)\n",
      "M=100, N=10000\n",
      "\tmax_s=0 (max_k = 1)\n",
      "\tmax_s=0.001 (max_k = 10)\n",
      "\tmax_s=0.01 (max_k = 101)\n",
      "\tmax_s=0.1 (max_k = 1010)\n",
      "Running experiments for Sphere\n",
      "M=10000, N=10000\n",
      "\tmax_s=0 (max_k = 1)\n",
      "\tmax_s=0.001 (max_k = 20)\n",
      "\tmax_s=0.01 (max_k = 200)\n",
      "\tmax_s=0.1 (max_k = 2000)\n",
      "M=1000, N=10000\n",
      "\tmax_s=0 (max_k = 1)\n",
      "\tmax_s=0.001 (max_k = 11)\n",
      "\tmax_s=0.01 (max_k = 110)\n",
      "\tmax_s=0.1 (max_k = 1100)\n",
      "M=100, N=10000\n",
      "\tmax_s=0 (max_k = 1)\n",
      "\tmax_s=0.001 (max_k = 10)\n",
      "\tmax_s=0.01 (max_k = 101)\n",
      "\tmax_s=0.1 (max_k = 1010)\n",
      "Running experiments for Torus 1\n",
      "M=10000, N=10000\n",
      "\tmax_s=0 (max_k = 1)\n",
      "\tmax_s=0.001 (max_k = 20)\n",
      "\tmax_s=0.01 (max_k = 200)\n",
      "\tmax_s=0.1 (max_k = 2000)\n",
      "M=1000, N=10000\n",
      "\tmax_s=0 (max_k = 1)\n",
      "\tmax_s=0.001 (max_k = 11)\n",
      "\tmax_s=0.01 (max_k = 110)\n",
      "\tmax_s=0.1 (max_k = 1100)\n",
      "M=100, N=10000\n",
      "\tmax_s=0 (max_k = 1)\n",
      "\tmax_s=0.001 (max_k = 10)\n",
      "\tmax_s=0.01 (max_k = 101)\n",
      "\tmax_s=0.1 (max_k = 1010)\n",
      "Running experiments for Torus 2\n",
      "M=10000, N=10000\n",
      "\tmax_s=0 (max_k = 1)\n"
     ]
    }
   ],
   "source": [
    "%%time\n",
    "result = run_experiments(\n",
    "    point_generators,\n",
    "    Ms = Ms,\n",
    "    Ns = Ns,\n",
    "    max_ss = max_ss,\n",
    "    sigma=sigma,\n",
    "    seed=seed,\n",
    "    names = names)"
   ]
  },
  {
   "cell_type": "code",
   "execution_count": null,
   "id": "1d5ddc8e-1d9f-49d1-b2a3-807657e08f0d",
   "metadata": {},
   "outputs": [],
   "source": [
    "print('\\n'.join(['\\n'.join(x) for x in result]))"
   ]
  },
  {
   "cell_type": "markdown",
   "id": "b7d0f6aa-6d31-4dc6-b59e-a0999f400aa5",
   "metadata": {},
   "source": [
    "# Persistence for fixed $s$ (and $k$)"
   ]
  },
  {
   "cell_type": "code",
   "execution_count": null,
   "id": "dd55cc16-66ef-4199-bd11-77bdb6419f4f",
   "metadata": {},
   "outputs": [],
   "source": [
    "%%time\n",
    "result_fixed_k = run_experiments(\n",
    "    point_generators,\n",
    "    Ms = Ms,\n",
    "    Ns = Ns,\n",
    "    max_ss = max_ss,\n",
    "    sigma=sigma,\n",
    "    seed=seed,\n",
    "    names = names,\n",
    "    max_r=None,\n",
    ")"
   ]
  },
  {
   "cell_type": "code",
   "execution_count": null,
   "id": "0faab31d-f0cc-4771-8733-90eb334158b6",
   "metadata": {},
   "outputs": [],
   "source": [
    "print('\\n'.join(['\\n'.join(x) for x in result_fixed_k]))"
   ]
  },
  {
   "cell_type": "markdown",
   "id": "829b02ab-1ec6-4053-b44b-c0412099bca4",
   "metadata": {},
   "source": [
    "# Runtime analysis"
   ]
  },
  {
   "cell_type": "code",
   "execution_count": 46,
   "id": "4fffaddc-9ba7-4463-88de-4411149b5a84",
   "metadata": {},
   "outputs": [],
   "source": [
    "import timeit\n",
    "import functools"
   ]
  },
  {
   "cell_type": "code",
   "execution_count": 48,
   "id": "e9124199-0ad7-4012-8823-fdd26f6e3075",
   "metadata": {},
   "outputs": [
    {
     "name": "stdout",
     "output_type": "stream",
     "text": [
      "Ns = [10000, 20000, 30000, 40000, 50000, 60000]\n",
      "\n",
      "k = 1\n",
      "Size 10000: 1.18s.\n",
      "Size 20000: 2.63s.\n",
      "Size 30000: 4.21s.\n",
      "Size 40000: 5.80s.\n",
      "Size 50000: 7.38s.\n",
      "Size 60000: 8.73s.\n",
      "\n",
      "k = 10\n",
      "Size 10000: 1.11s.\n",
      "Size 20000: 2.32s.\n",
      "Size 30000: 3.57s.\n",
      "Size 40000: 4.85s.\n",
      "Size 50000: 6.17s.\n",
      "Size 60000: 7.51s.\n",
      "\n",
      "k = 100\n",
      "Size 10000: 1.14s.\n",
      "Size 20000: 2.42s.\n",
      "Size 30000: 3.75s.\n",
      "Size 40000: 5.08s.\n",
      "Size 50000: 6.53s.\n",
      "Size 60000: 7.91s.\n",
      "\n",
      "k = 1000\n",
      "Size 10000: 1.72s.\n",
      "Size 20000: 3.59s.\n",
      "Size 30000: 5.58s.\n",
      "Size 40000: 7.50s.\n",
      "Size 50000: 9.76s.\n",
      "Size 60000: 11.70s.\n",
      "\n",
      "k = 10000\n",
      "Size 10000: 7.86s.\n",
      "Size 20000: 16.90s.\n",
      "Size 30000: 26.71s.\n",
      "Size 40000: 35.15s.\n",
      "Size 50000: 47.29s.\n",
      "Size 60000: 56.64s.\n"
     ]
    }
   ],
   "source": [
    "repeat = 10\n",
    "Ns = [10000, 20000, 30000, 40000, 50000, 60000]\n",
    "ks = [10, 100, 1000, 10000]\n",
    "sigma = 0.07\n",
    "\n",
    "def alpha_core_persistence(X, k):\n",
    "    st = core_alpha(X, max_k=k, max_r=None)\n",
    "    st.persistence()\n",
    "\n",
    "print(f\"Ns = {Ns}\")\n",
    "for k in ks:\n",
    "    print(f\"\\nk = {k}\")\n",
    "    for N in Ns:\n",
    "        X = embedded_torus(N // 2, N // 2, sigma, rng=None, seed=0)\n",
    "        times = timeit.repeat(functools.partial(alpha_core_persistence, X, k), number=1, repeat=repeat)\n",
    "        print(f\"Size {N}: {min(times):.2f}s.\")"
   ]
  },
  {
   "cell_type": "code",
   "execution_count": null,
   "id": "0e7015df-a628-4799-a40d-70fbb38c5cb8",
   "metadata": {},
   "outputs": [],
   "source": []
  }
 ],
 "metadata": {
  "kernelspec": {
   "display_name": "Python 3 (ipykernel)",
   "language": "python",
   "name": "python3"
  },
  "language_info": {
   "codemirror_mode": {
    "name": "ipython",
    "version": 3
   },
   "file_extension": ".py",
   "mimetype": "text/x-python",
   "name": "python",
   "nbconvert_exporter": "python",
   "pygments_lexer": "ipython3",
   "version": "3.11.8"
  }
 },
 "nbformat": 4,
 "nbformat_minor": 5
}
