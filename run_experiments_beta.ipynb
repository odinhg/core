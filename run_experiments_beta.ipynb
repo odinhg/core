{
 "cells": [
  {
   "cell_type": "markdown",
   "id": "34553253-8c64-4d1c-8f74-11ef42ada07a",
   "metadata": {},
   "source": [
    "# Experiments\n",
    "\n",
    "Running this notebook reproduces the experiments from the paper where we examine the effect of the value of $\\beta$."
   ]
  },
  {
   "cell_type": "code",
   "execution_count": 12,
   "id": "fac5696d-9549-4f2f-b0c8-01678c4adb74",
   "metadata": {},
   "outputs": [],
   "source": [
    "import math\n",
    "import gudhi\n",
    "import numpy as np\n",
    "from miniball import Miniball\n",
    "import timeit\n",
    "import functools\n",
    "import warnings\n",
    "warnings.filterwarnings('ignore')\n",
    "\n",
    "from core import core_alpha, sqrt_persistence, persistence_intervals_in_dimension\n",
    "from datasets import sample_circle, sample_rectangle, sample_torus, sample_cube, sample_flat_torus, sample_sphere"
   ]
  },
  {
   "cell_type": "markdown",
   "id": "9261fc5a-5017-46fb-8ea2-85098d3746c8",
   "metadata": {},
   "source": [
    "## Helper Functions\n",
    "\n",
    "Compute alpha-core persistent homology from a point cloud $X$ for multiple values of $s_\\text{max}$."
   ]
  },
  {
   "cell_type": "code",
   "execution_count": 13,
   "id": "c507f91f-5585-4b1e-93fa-78ae36e10c26",
   "metadata": {},
   "outputs": [],
   "source": [
    "def persistence_diagrams(\n",
    "    X, max_ss: list[int] = [1, 10, 100, 1000], \n",
    "    max_r: float | None = -1\n",
    ") -> list[tuple[int, tuple[int, int]]]:\n",
    "    if max_r < 0:\n",
    "        max_r = 2*math.sqrt(Miniball(X).squared_radius())\n",
    "    res = []\n",
    "    for i, max_s in enumerate(max_ss):\n",
    "        max_k = max(1, int((M + N) * max_s))\n",
    "        st = core_alpha(X, max_k=max_k, max_r=max_r)\n",
    "        persistence = sqrt_persistence(st)\n",
    "        res.append(persistence)\n",
    "    return res"
   ]
  },
  {
   "cell_type": "markdown",
   "id": "a151b272-3222-4f5f-9b00-3b82674a36f5",
   "metadata": {},
   "source": [
    "### Point Cloud Dataset Generators\n",
    "\n",
    "Functions for generating the datasets."
   ]
  },
  {
   "cell_type": "code",
   "execution_count": 14,
   "id": "2c271bc3-cd85-441b-bc17-8e85e5d8e7af",
   "metadata": {},
   "outputs": [],
   "source": [
    "def circle_with_noise(M, N, sigma, rng=None, seed=0):\n",
    "    if rng is None:\n",
    "        rng = np.random.default_rng(seed=seed)\n",
    "    Z = sample_circle(N, rng, std=sigma)\n",
    "    upper_right_corner = np.maximum(np.max(Z, axis=0), -np.min(Z, axis=0))\n",
    "    Y = sample_rectangle(M, rng, lower_left_corner=-upper_right_corner, upper_right_corner=upper_right_corner)\n",
    "    return np.r_[Z, Y]    "
   ]
  },
  {
   "cell_type": "code",
   "execution_count": 15,
   "id": "ee5fde7c-8327-4895-ac46-922687aeda52",
   "metadata": {},
   "outputs": [],
   "source": [
    "def two_circles_with_noise(M, N, sigma, rng=None, seed=0):\n",
    "    if rng is None:\n",
    "        rng = np.random.default_rng(seed=seed)\n",
    "    N1 = (2 * N) // 3\n",
    "    N2 = N // 3 \n",
    "    \n",
    "    Z1 = sample_circle(N1, rng, r=1, std=sigma)\n",
    "    Z2 = sample_circle(N2, rng, r=0.5, std=sigma)\n",
    "    Z = np.r_[Z1, Z2]\n",
    "    \n",
    "    upper_right_corner = np.maximum(np.max(Z, axis=0), -np.min(Z, axis=0))\n",
    "    Y = sample_rectangle(M, rng, lower_left_corner=-upper_right_corner, upper_right_corner=upper_right_corner)\n",
    "    return np.r_[Z1, Z2, Y]"
   ]
  },
  {
   "cell_type": "code",
   "execution_count": 16,
   "id": "a5bd73f8-7e8a-4b8a-8380-def12b42e983",
   "metadata": {},
   "outputs": [],
   "source": [
    "def embedded_torus(M, N, sigma, rng=None, seed=0):\n",
    "    if rng is None:\n",
    "        rng = np.random.default_rng(seed=seed)\n",
    "    Z = sample_torus(N, rng, a=1, b=3, std=sigma)\n",
    "    upper_right_corner = np.maximum(np.max(Z, axis=0), -np.min(Z, axis=0))\n",
    "    Y = sample_rectangle(M, rng, lower_left_corner=-upper_right_corner, upper_right_corner=upper_right_corner)\n",
    "    return np.r_[Z, Y]"
   ]
  },
  {
   "cell_type": "code",
   "execution_count": 17,
   "id": "6d4bdbbf-550a-4cb0-974f-a9d5232a3b73",
   "metadata": {},
   "outputs": [],
   "source": [
    "def sphere(M, N, sigma, rng=None, seed=0):\n",
    "    if rng is None:\n",
    "        rng = np.random.default_rng(seed=seed)\n",
    "    Z = sample_sphere(N, rng, std=sigma)\n",
    "    upper_right_corner = np.maximum(np.max(Z, axis=0), -np.min(Z, axis=0))\n",
    "    Y = sample_rectangle(M, rng, lower_left_corner=-upper_right_corner, upper_right_corner=upper_right_corner)\n",
    "    return np.r_[Z, Y]"
   ]
  },
  {
   "cell_type": "code",
   "execution_count": 18,
   "id": "a24b6696-d759-4a48-a088-1d5433b1ae71",
   "metadata": {},
   "outputs": [],
   "source": [
    "def clifford_torus(M, N, sigma, rng=None, seed=0):\n",
    "    if rng is None:\n",
    "        rng = np.random.default_rng(seed=seed)\n",
    "    Z = sample_flat_torus(N, rng, std=sigma)\n",
    "    upper_right_corner = np.maximum(np.max(Z, axis=0), -np.min(Z, axis=0))\n",
    "    Y = sample_rectangle(M, rng, lower_left_corner=-upper_right_corner, upper_right_corner=upper_right_corner)\n",
    "    return np.r_[Z, Y]"
   ]
  },
  {
   "cell_type": "markdown",
   "id": "57127157-9f55-4a54-94f7-ebdd066e052a",
   "metadata": {},
   "source": [
    "### Bottleneck Distances\n",
    "\n",
    "The following function compute bottleneck distances between the alpha-core persistence and the ground truth diagrams for a given point cloud dataset generator."
   ]
  },
  {
   "cell_type": "code",
   "execution_count": 28,
   "id": "913eea65-1d38-46c5-b840-b87890d6ff25",
   "metadata": {},
   "outputs": [],
   "source": [
    "def bottleneck_distance_beta_experiment(\n",
    "    betas, M, N, max_s=0.001, sigma=0.07, max_r=-1, \n",
    "    point_generator=circle_with_noise, seed=0):\n",
    "    rng = np.random.default_rng(seed=seed)\n",
    "    X = point_generator(0, 5, sigma=0, rng=rng)\n",
    "    dimensions = range(X.shape[1])\n",
    "    res = {dim: [] for dim in dimensions}\n",
    "    \n",
    "    X = point_generator(0, M + N, sigma=0, rng=rng)\n",
    "    st_ideal = core_alpha(X, max_k=1, max_r=max_r, beta=1)\n",
    "    persistence_ideal = sqrt_persistence(st_ideal) \n",
    "    for beta in betas:\n",
    "        print(f\"beta={beta}\")\n",
    "        X = point_generator(M, N, sigma, rng=rng)\n",
    "        if max_r is not None:\n",
    "            max_r = 2*math.sqrt(Miniball(X).squared_radius())\n",
    "        max_k = max(1, int((M + N) * max_s))\n",
    "        print(f\"\\tmax_s={max_s} (max_k = {max_k})\")\n",
    "        st = core_alpha(X, max_k=max_k, max_r=max_r, beta=beta)\n",
    "        persistence = sqrt_persistence(st)\n",
    "        for dim in dimensions:\n",
    "            res[dim].append(\n",
    "                gudhi.bottleneck_distance(\n",
    "                    persistence_intervals_in_dimension(persistence, dim),\n",
    "                    persistence_intervals_in_dimension(persistence_ideal, dim)))\n",
    "    return res\n",
    "        \n",
    "        "
   ]
  },
  {
   "cell_type": "markdown",
   "id": "87e9d23e-ccde-4e71-9b2d-3115b0b0db38",
   "metadata": {},
   "source": [
    "Helper function for printing the results."
   ]
  },
  {
   "cell_type": "code",
   "execution_count": 53,
   "id": "ec5e3346-f990-4111-a26c-588949a51302",
   "metadata": {},
   "outputs": [],
   "source": [
    "def formatted_bottleneck_results(bottleneck_distances, betas, M, N, max_s):\n",
    "    res = [f\"betas={betas}, N={N}, M={M}, max_s={max_s}\"]\n",
    "    for dim in bottleneck_distances.keys():\n",
    "        res.append(\"\\\\addplot plot coordinates {\" + \" \".join([f\"({beta}, {dist:.5f})\" for beta, dist in zip(betas, bottleneck_distances[dim])]) + f\"}};\\\\addlegendentry{{Dim {dim}}}\")\n",
    "    return res"
   ]
  },
  {
   "cell_type": "markdown",
   "id": "c1347aea-d7be-4311-9115-35b239269f63",
   "metadata": {},
   "source": [
    "Function for running the experiments with a list of different point cloud dataset generators and a list of $s_\\text{max}$."
   ]
  },
  {
   "cell_type": "code",
   "execution_count": 54,
   "id": "0fa3e43e-3261-4c4a-946d-184f09caef56",
   "metadata": {},
   "outputs": [],
   "source": [
    "def run_experiments_beta(\n",
    "    point_generators,\n",
    "    betas,\n",
    "    M,\n",
    "    N,\n",
    "    max_s,\n",
    "    names=None,\n",
    "    sigma=0.07,\n",
    "    seed=0,\n",
    "    max_r=-1,\n",
    "):\n",
    "    res = []\n",
    "    for idx, generator in enumerate(point_generators):\n",
    "        if names is not None:\n",
    "            name = names[idx]\n",
    "        else:\n",
    "            name = 'Unknown'\n",
    "        print(f\"Running experiments for {name}\")\n",
    "        bottleneck_dists = bottleneck_distance_beta_experiment(\n",
    "            betas=betas, M=M, N=N, max_s=max_s, point_generator=generator, sigma=sigma, seed=seed, max_r=max_r)\n",
    "        res.append([name] +\n",
    "                   formatted_bottleneck_results(bottleneck_dists, betas, M, N, max_s))\n",
    "    return res"
   ]
  },
  {
   "cell_type": "markdown",
   "id": "806ee81a-b488-440e-944f-19b16a1a32d0",
   "metadata": {},
   "source": [
    "## Run Experiments\n",
    "### Experiment Settings"
   ]
  },
  {
   "cell_type": "code",
   "execution_count": 65,
   "id": "38bd93bc-7143-43aa-9df4-d9c85c42a835",
   "metadata": {},
   "outputs": [],
   "source": [
    "betas = [2 ** i for i in range(-3, 4)]\n",
    "M = 1000\n",
    "N = 10000\n",
    "max_s = 0.01\n",
    "sigma = 0.07\n",
    "seed = 0\n",
    "point_generators = [circle_with_noise, two_circles_with_noise, sphere, embedded_torus, clifford_torus]\n",
    "names = [\"Circle\", \"Circles\", \"Sphere\", \"Torus 1\", \"Torus 2\"]"
   ]
  },
  {
   "cell_type": "markdown",
   "id": "d0664d99-38e3-4e6c-b0a6-77a29eeac74a",
   "metadata": {},
   "source": [
    "### Persistence along a line\n",
    "\n",
    "Run experiments for computing alpha-core persistence along a line."
   ]
  },
  {
   "cell_type": "code",
   "execution_count": 66,
   "id": "575343e0-a007-4d84-b09b-3cc5c62a65b1",
   "metadata": {},
   "outputs": [
    {
     "name": "stdout",
     "output_type": "stream",
     "text": [
      "Running experiments for Circle\n",
      "beta=0.125\n",
      "\tmax_s=0.01 (max_k = 110)\n",
      "beta=0.25\n",
      "\tmax_s=0.01 (max_k = 110)\n",
      "beta=0.5\n",
      "\tmax_s=0.01 (max_k = 110)\n",
      "beta=1\n",
      "\tmax_s=0.01 (max_k = 110)\n",
      "beta=2\n",
      "\tmax_s=0.01 (max_k = 110)\n",
      "beta=4\n",
      "\tmax_s=0.01 (max_k = 110)\n",
      "beta=8\n",
      "\tmax_s=0.01 (max_k = 110)\n",
      "Running experiments for Circles\n",
      "beta=0.125\n",
      "\tmax_s=0.01 (max_k = 110)\n",
      "beta=0.25\n",
      "\tmax_s=0.01 (max_k = 110)\n",
      "beta=0.5\n",
      "\tmax_s=0.01 (max_k = 110)\n",
      "beta=1\n",
      "\tmax_s=0.01 (max_k = 110)\n",
      "beta=2\n",
      "\tmax_s=0.01 (max_k = 110)\n",
      "beta=4\n",
      "\tmax_s=0.01 (max_k = 110)\n",
      "beta=8\n",
      "\tmax_s=0.01 (max_k = 110)\n",
      "Running experiments for Sphere\n",
      "beta=0.125\n",
      "\tmax_s=0.01 (max_k = 110)\n",
      "beta=0.25\n",
      "\tmax_s=0.01 (max_k = 110)\n",
      "beta=0.5\n",
      "\tmax_s=0.01 (max_k = 110)\n",
      "beta=1\n",
      "\tmax_s=0.01 (max_k = 110)\n",
      "beta=2\n",
      "\tmax_s=0.01 (max_k = 110)\n",
      "beta=4\n",
      "\tmax_s=0.01 (max_k = 110)\n",
      "beta=8\n",
      "\tmax_s=0.01 (max_k = 110)\n",
      "Running experiments for Torus 1\n",
      "beta=0.125\n",
      "\tmax_s=0.01 (max_k = 110)\n",
      "beta=0.25\n",
      "\tmax_s=0.01 (max_k = 110)\n",
      "beta=0.5\n",
      "\tmax_s=0.01 (max_k = 110)\n",
      "beta=1\n",
      "\tmax_s=0.01 (max_k = 110)\n",
      "beta=2\n",
      "\tmax_s=0.01 (max_k = 110)\n",
      "beta=4\n",
      "\tmax_s=0.01 (max_k = 110)\n",
      "beta=8\n",
      "\tmax_s=0.01 (max_k = 110)\n",
      "Running experiments for Torus 2\n",
      "beta=0.125\n",
      "\tmax_s=0.01 (max_k = 110)\n",
      "beta=0.25\n",
      "\tmax_s=0.01 (max_k = 110)\n",
      "beta=0.5\n",
      "\tmax_s=0.01 (max_k = 110)\n",
      "beta=1\n",
      "\tmax_s=0.01 (max_k = 110)\n",
      "beta=2\n",
      "\tmax_s=0.01 (max_k = 110)\n",
      "beta=4\n",
      "\tmax_s=0.01 (max_k = 110)\n",
      "beta=8\n",
      "\tmax_s=0.01 (max_k = 110)\n",
      "CPU times: user 5min 24s, sys: 242 ms, total: 5min 24s\n",
      "Wall time: 5min 19s\n"
     ]
    }
   ],
   "source": [
    "%%time\n",
    "result = run_experiments_beta(\n",
    "    point_generators,\n",
    "    betas=betas,\n",
    "    M = M,\n",
    "    N = N,\n",
    "    max_s = max_s,\n",
    "    sigma=sigma,\n",
    "    seed=seed,\n",
    "    names = names)"
   ]
  },
  {
   "cell_type": "markdown",
   "id": "0597ed21-d49e-4558-a259-bc18bf922b41",
   "metadata": {},
   "source": [
    "Print the results formatted for use with pgfplots."
   ]
  },
  {
   "cell_type": "code",
   "execution_count": 67,
   "id": "1d5ddc8e-1d9f-49d1-b2a3-807657e08f0d",
   "metadata": {},
   "outputs": [
    {
     "name": "stdout",
     "output_type": "stream",
     "text": [
      "Circle\n",
      "betas=[0.125, 0.25, 0.5, 1, 2, 4, 8], N=10000, M=1000, max_s=0.01\n",
      "\\addplot plot coordinates {(0.125, 0.01907) (0.25, 0.02751) (0.5, 0.03793) (1, 0.05549) (2, 0.07676) (4, 0.11115) (8, 0.15454)};\\addlegendentry{Dim 0}\n",
      "\\addplot plot coordinates {(0.125, 0.49824) (0.25, 0.49824) (0.5, 0.49824) (1, 0.49824) (2, 0.37360) (4, 0.14312) (8, 0.30711)};\\addlegendentry{Dim 1}\n",
      "Circles\n",
      "betas=[0.125, 0.25, 0.5, 1, 2, 4, 8], N=10000, M=1000, max_s=0.01\n",
      "\\addplot plot coordinates {(0.125, 0.12500) (0.25, 0.12500) (0.5, 0.12500) (1, 0.08623) (2, 0.09707) (4, 0.13024) (8, 0.19088)};\\addlegendentry{Dim 0}\n",
      "\\addplot plot coordinates {(0.125, 0.24845) (0.25, 0.24845) (0.5, 0.24845) (1, 0.16802) (2, 0.12847) (4, 0.17059) (8, 0.35133)};\\addlegendentry{Dim 1}\n",
      "Sphere\n",
      "betas=[0.125, 0.25, 0.5, 1, 2, 4, 8], N=10000, M=1000, max_s=0.01\n",
      "\\addplot plot coordinates {(0.125, 0.06591) (0.25, 0.09104) (0.5, 0.12952) (1, 0.17775) (2, 0.26132) (4, 0.37254) (8, 0.50437)};\\addlegendentry{Dim 0}\n",
      "\\addplot plot coordinates {(0.125, 0.02154) (0.25, 0.02154) (0.5, 0.02154) (1, 0.02154) (2, 0.02154) (4, 0.02650) (8, 0.03661)};\\addlegendentry{Dim 1}\n",
      "\\addplot plot coordinates {(0.125, 0.46797) (0.25, 0.46797) (0.5, 0.46797) (1, 0.33028) (2, 0.28207) (4, 0.41758) (8, 0.60364)};\\addlegendentry{Dim 2}\n",
      "Torus 1\n",
      "betas=[0.125, 0.25, 0.5, 1, 2, 4, 8], N=10000, M=1000, max_s=0.01\n",
      "\\addplot plot coordinates {(0.125, 0.17838) (0.25, 0.25874) (0.5, 0.35527) (1, 0.52543) (2, 0.72464) (4, 1.03813) (8, 1.45861)};\\addlegendentry{Dim 0}\n",
      "\\addplot plot coordinates {(0.125, 0.96894) (0.25, 0.96894) (0.5, 0.82640) (1, 0.54365) (2, 0.79519) (4, 0.96894) (8, 1.41228)};\\addlegendentry{Dim 1}\n",
      "\\addplot plot coordinates {(0.125, 0.36199) (0.25, 0.36778) (0.5, 0.30853) (1, 0.40142) (2, 0.40142) (4, 0.40142) (8, 0.40142)};\\addlegendentry{Dim 2}\n",
      "Torus 2\n",
      "betas=[0.125, 0.25, 0.5, 1, 2, 4, 8], N=10000, M=1000, max_s=0.01\n",
      "\\addplot plot coordinates {(0.125, 0.10789) (0.25, 0.16006) (0.5, 0.22702) (1, 0.32042) (2, 0.44062) (4, 0.63438) (8, 0.90741)};\\addlegendentry{Dim 0}\n",
      "\\addplot plot coordinates {(0.125, 0.48203) (0.25, 0.48203) (0.5, 0.48203) (1, 0.32660) (2, 0.47401) (4, 0.48203) (8, 0.48203)};\\addlegendentry{Dim 1}\n",
      "\\addplot plot coordinates {(0.125, 0.44149) (0.25, 0.44149) (0.5, 0.37978) (1, 0.29071) (2, 0.42576) (4, 0.44149) (8, 0.63733)};\\addlegendentry{Dim 2}\n",
      "\\addplot plot coordinates {(0.125, 0.20709) (0.25, 0.20709) (0.5, 0.20709) (1, 0.20709) (2, 0.20709) (4, 0.20709) (8, 0.20709)};\\addlegendentry{Dim 3}\n"
     ]
    }
   ],
   "source": [
    "print('\\n'.join(['\\n'.join(x) for x in result]))"
   ]
  },
  {
   "cell_type": "code",
   "execution_count": null,
   "id": "e7d8d922-6376-4414-9be8-54cb3f701c6e",
   "metadata": {},
   "outputs": [],
   "source": []
  }
 ],
 "metadata": {
  "kernelspec": {
   "display_name": "Python 3 (ipykernel)",
   "language": "python",
   "name": "python3"
  },
  "language_info": {
   "codemirror_mode": {
    "name": "ipython",
    "version": 3
   },
   "file_extension": ".py",
   "mimetype": "text/x-python",
   "name": "python",
   "nbconvert_exporter": "python",
   "pygments_lexer": "ipython3",
   "version": "3.12.3"
  }
 },
 "nbformat": 4,
 "nbformat_minor": 5
}
