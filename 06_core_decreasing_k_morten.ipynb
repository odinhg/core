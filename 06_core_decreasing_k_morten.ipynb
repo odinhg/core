{
 "cells": [
  {
   "cell_type": "markdown",
   "id": "34553253-8c64-4d1c-8f74-11ef42ada07a",
   "metadata": {},
   "source": [
    "# Computing the core Čech filtration for a fixed $k$\n",
    "\n",
    "In this notebook, we show how to compute the persistent homology of the core Čech filtration in the simplest case where $k$ is fixed. For $k=1$ we demonstrate that the core Čech filtration is indeed equivalent to the usual Čech filtration by comparing it to the $\\alpha$-complex. Furthermore, we compute the persistent homology of a noisy circle for different values of $k$ using the core Čech filtration."
   ]
  },
  {
   "cell_type": "code",
   "execution_count": 1,
   "id": "49e1ef2f-1795-4456-89e9-599a51e1f30d",
   "metadata": {},
   "outputs": [],
   "source": [
    "%load_ext autoreload\n",
    "%autoreload 2"
   ]
  },
  {
   "cell_type": "raw",
   "id": "0da10aba-44cf-46a7-b11c-fe234cc67cfa",
   "metadata": {},
   "source": [
    "%load_ext line_profiler\n",
    "\n",
    "# %load_ext cython"
   ]
  },
  {
   "cell_type": "code",
   "execution_count": 2,
   "id": "fac5696d-9549-4f2f-b0c8-01678c4adb74",
   "metadata": {},
   "outputs": [],
   "source": [
    "import math\n",
    "import gudhi\n",
    "import numpy as np\n",
    "import matplotlib.pyplot as plt\n",
    "from itertools import combinations\n",
    "from miniball import Miniball\n",
    "from scipy.spatial import KDTree\n",
    "\n",
    "from datasets_morten import sample_circle, sample_rectangle, sample_torus, sample_cube, sample_flat_torus\n",
    "from sklearn.neighbors import NearestNeighbors\n",
    "import warnings\n",
    "warnings.filterwarnings('ignore')"
   ]
  },
  {
   "cell_type": "code",
   "execution_count": 3,
   "id": "a1493a69-0d44-4644-a716-c1674e36f0ec",
   "metadata": {},
   "outputs": [],
   "source": [
    "rng = np.random.default_rng(seed=0)"
   ]
  },
  {
   "cell_type": "markdown",
   "id": "5214e71b-54d1-460f-bae4-834049d8e407",
   "metadata": {},
   "source": [
    "### Compute distances to k-nearest neighbors in X"
   ]
  },
  {
   "cell_type": "code",
   "execution_count": 4,
   "id": "747eba5a-1b37-401d-96e5-e7d9de431eb9",
   "metadata": {},
   "outputs": [],
   "source": [
    "def k_nearest_neighbor_distances(X, k):\n",
    "    kd_tree = KDTree(X)\n",
    "    k_core_distances, _ = kd_tree.query(X, k=k, workers=-1)\n",
    "    return k_core_distances  "
   ]
  },
  {
   "cell_type": "markdown",
   "id": "c0075a42-0d4b-40c4-826f-1dbcb135397b",
   "metadata": {},
   "source": [
    "### Compute filtration values of faces from squared radius and core values"
   ]
  },
  {
   "cell_type": "code",
   "execution_count": 5,
   "id": "7fc44240-2a76-491d-991a-6c10684cb917",
   "metadata": {},
   "outputs": [],
   "source": [
    "def core_value(face, squared_radius, core_values):\n",
    "    max_core = max(core_values[face]) \n",
    "    return max(squared_radius ** 0.5, max_core)"
   ]
  },
  {
   "cell_type": "markdown",
   "id": "4e2f1233-5989-4e0b-817f-1ec7c95f2693",
   "metadata": {},
   "source": [
    "### Compute core value for each points"
   ]
  },
  {
   "cell_type": "code",
   "execution_count": 6,
   "id": "f2f4888f-86e8-4584-9254-1adc605decf0",
   "metadata": {},
   "outputs": [],
   "source": [
    "def vertex_values(X, max_k, max_r):\n",
    "    if max_r is None or max_k <= 1:\n",
    "        return k_nearest_neighbor_distances(X, k=[max_k])\n",
    "    k_core_distances = k_nearest_neighbor_distances(X, np.arange(1, max_k + 1))\n",
    "    line = np.linspace(max_r, 0, num=max_k)\n",
    "    if max_k>1:\n",
    "        indices = np.argmax(line <= k_core_distances, axis=1)\n",
    "        values = k_core_distances[np.arange(len(k_core_distances)), indices]\n",
    "        values[values > max_r] = max_r\n",
    "    else:\n",
    "        values = np.array(k_core_distances)\n",
    "    return values"
   ]
  },
  {
   "cell_type": "markdown",
   "id": "4cf7a37d-9c22-4780-956d-82e7258f5d90",
   "metadata": {},
   "source": [
    "### Compute core simplex tree from a simplex tree filtered by squared radius and a point cloud"
   ]
  },
  {
   "cell_type": "code",
   "execution_count": 7,
   "id": "4989a84c-d5a6-4a9b-b138-fa20d0b837a9",
   "metadata": {},
   "outputs": [],
   "source": [
    "def core_complex(X, st, max_k, max_r=None):\n",
    "    k_core_distances = vertex_values(X, max_k, max_r)**2\n",
    "    for vertex in range(X.shape[0]):\n",
    "        st.assign_filtration([vertex], k_core_distances[vertex])\n",
    "    st.make_filtration_non_decreasing()\n",
    "    return st"
   ]
  },
  {
   "cell_type": "markdown",
   "id": "e3274b06-3b2b-4fa8-9c89-5fad6bb753ce",
   "metadata": {},
   "source": [
    "### Compute simplex tree of a point cloud filtered by squared radius"
   ]
  },
  {
   "cell_type": "code",
   "execution_count": 8,
   "id": "0889802e-9ba8-4249-95cb-3144688bfa95",
   "metadata": {},
   "outputs": [],
   "source": [
    "def cech_squared_radius(X, max_dim=1):\n",
    "    st = gudhi.SimplexTree()\n",
    "    for dim in range(max_dim+1):\n",
    "        for face in combinations(range(len(X)),dim+1):\n",
    "            val = Miniball(X[list(face)]).squared_radius()\n",
    "            st.insert(face, val)\n",
    "    return st"
   ]
  },
  {
   "cell_type": "markdown",
   "id": "115b30a1-97cc-4948-8b9b-d1b8cce9d39e",
   "metadata": {},
   "source": [
    "### Construct core cech simplex tree"
   ]
  },
  {
   "cell_type": "code",
   "execution_count": 9,
   "id": "ee5436a4-86de-4aec-a0b7-da0903bac654",
   "metadata": {},
   "outputs": [],
   "source": [
    "def core_cech(X, max_k=10, max_r=None, max_dim=1):\n",
    "    st = cech_squared_radius(X, max_dim=max_dim)\n",
    "    return core_complex(X, st, max_k, max_r)"
   ]
  },
  {
   "cell_type": "markdown",
   "id": "9261fc5a-5017-46fb-8ea2-85098d3746c8",
   "metadata": {},
   "source": [
    "### Construct core alpha simplex tree"
   ]
  },
  {
   "cell_type": "code",
   "execution_count": 10,
   "id": "65f0c06d-39b0-4cc2-92df-aac82e9432e1",
   "metadata": {},
   "outputs": [],
   "source": [
    "def core_alpha(X, max_k=10, max_r=None, precision='safe'):\n",
    "    st = gudhi.AlphaComplex(points=X, precision=precision).create_simplex_tree()\n",
    "    return core_complex(X, st, max_k, max_r)"
   ]
  },
  {
   "cell_type": "code",
   "execution_count": 11,
   "id": "23ab17f1-5c09-4525-8184-edba1554c9ee",
   "metadata": {},
   "outputs": [
    {
     "ename": "TypeError",
     "evalue": "sample_circle() got an unexpected keyword argument 'variance'",
     "output_type": "error",
     "traceback": [
      "\u001b[0;31m---------------------------------------------------------------------------\u001b[0m",
      "\u001b[0;31mTypeError\u001b[0m                                 Traceback (most recent call last)",
      "Cell \u001b[0;32mIn[11], line 3\u001b[0m\n\u001b[1;32m      1\u001b[0m N \u001b[38;5;241m=\u001b[39m \u001b[38;5;241m60\u001b[39m\n\u001b[1;32m      2\u001b[0m M \u001b[38;5;241m=\u001b[39m \u001b[38;5;241m40\u001b[39m\n\u001b[0;32m----> 3\u001b[0m Z \u001b[38;5;241m=\u001b[39m \u001b[43msample_circle\u001b[49m\u001b[43m(\u001b[49m\u001b[43mN\u001b[49m\u001b[43m,\u001b[49m\u001b[43m \u001b[49m\u001b[43mrng\u001b[49m\u001b[43m,\u001b[49m\u001b[43m \u001b[49m\u001b[43mvariance\u001b[49m\u001b[38;5;241;43m=\u001b[39;49m\u001b[38;5;241;43m0.005\u001b[39;49m\u001b[43m)\u001b[49m\n\u001b[1;32m      4\u001b[0m Y \u001b[38;5;241m=\u001b[39m sample_rectangle(M, rng)\n\u001b[1;32m      5\u001b[0m X \u001b[38;5;241m=\u001b[39m np\u001b[38;5;241m.\u001b[39mr_[Z, Y]\n",
      "\u001b[0;31mTypeError\u001b[0m: sample_circle() got an unexpected keyword argument 'variance'"
     ]
    }
   ],
   "source": [
    "N = 60\n",
    "M = 40\n",
    "Z = sample_circle(N, rng, variance=0.005)\n",
    "Y = sample_rectangle(M, rng)\n",
    "X = np.r_[Z, Y]\n",
    "plt.scatter(*X.T)\n",
    "plt.show()"
   ]
  },
  {
   "cell_type": "code",
   "execution_count": null,
   "id": "9128c2b7-9126-4754-bf2c-c72ca82a37a3",
   "metadata": {},
   "outputs": [],
   "source": [
    "def plot_sqrt_persistence(st, axes):\n",
    "    persistence = st.persistence()\n",
    "    persistence = [(dim, (birth**.5, death**.5)) for dim, (birth, death) in persistence]\n",
    "    return gudhi.plot_persistence_diagram(persistence, axes=axes)"
   ]
  },
  {
   "cell_type": "code",
   "execution_count": null,
   "id": "e75c6e0e-1696-465a-bf86-a806ea79bb95",
   "metadata": {},
   "outputs": [],
   "source": [
    "%%time\n",
    "max_ks = [1, 2, 4, 8]\n",
    "max_r = 2*math.sqrt(Miniball(X).squared_radius())\n",
    "\n",
    "fig, axs = plt.subplots(ncols=len(max_ks), figsize=(14, 14 / len(max_ks)))\n",
    "fig.suptitle(\"Core Čech\")\n",
    "for i, max_k in enumerate(max_ks):\n",
    "    st_core = core_cech(X, max_dim=2, max_k=max_k, max_r=max_r)\n",
    "    plot_sqrt_persistence(st_core, axes=axs[i])\n",
    "    # gudhi.plot_persistence_diagram(st_core.persistence(), axes=axs[i])\n",
    "    axs[i].set_title(f\"max_k={max_k}, max_r={max_r:.2f}\")\n",
    "fig.tight_layout()\n",
    "plt.show()"
   ]
  },
  {
   "cell_type": "code",
   "execution_count": null,
   "id": "2f22cff4-68bd-4895-b18c-dd4d1c898d2c",
   "metadata": {},
   "outputs": [],
   "source": [
    "N = 5_000\n",
    "M = 10_000\n",
    "Z = sample_circle(N, rng, r=0.8, variance=0.01)\n",
    "Y = sample_rectangle(M, rng)\n",
    "X = np.r_[Z, Y]\n",
    "plt.scatter(*X.T, s=5, alpha=0.2)\n",
    "plt.show()"
   ]
  },
  {
   "cell_type": "code",
   "execution_count": null,
   "id": "8a658289-88a4-43ca-a501-fca1bc393ac2",
   "metadata": {},
   "outputs": [],
   "source": [
    "%%time\n",
    "max_ks = [1, 10, 100, 1000]\n",
    "max_r = 2*math.sqrt(Miniball(X).squared_radius())\n",
    "\n",
    "fig, axs = plt.subplots(ncols=len(max_ks), figsize=(14, 14 / len(max_ks)))\n",
    "fig.suptitle(\"Alpha Core\")\n",
    "for i, max_k in enumerate(max_ks):\n",
    "    st_alpha_core = core_alpha(X, max_k=max_k, max_r=max_r)\n",
    "    plot_sqrt_persistence(st_alpha_core, axes=axs[i])\n",
    "    #gudhi.plot_persistence_diagram(st_alpha_core.persistence(), axes=axs[i])\n",
    "    axs[i].set_title(f\"max_k={max_k}, max_r={max_r:.2f}\")\n",
    "fig.tight_layout()\n",
    "plt.show()"
   ]
  },
  {
   "cell_type": "code",
   "execution_count": null,
   "id": "d3ab3e43-cb88-45ed-b38b-3ab7f25c4c13",
   "metadata": {},
   "outputs": [],
   "source": []
  },
  {
   "cell_type": "markdown",
   "id": "59553ab7-f4f3-4644-9c3c-47a1e661423e",
   "metadata": {},
   "source": [
    "## Three circles with noise"
   ]
  },
  {
   "cell_type": "code",
   "execution_count": null,
   "id": "2344eaad-cf98-4452-8925-e3a9cab56b9a",
   "metadata": {},
   "outputs": [],
   "source": [
    "N1 = 5000\n",
    "N2 = 3000\n",
    "N3 = 1000\n",
    "M = 10_000\n",
    "\n",
    "Z1 = sample_circle(N1, rng, r=0.8, std=0.02)\n",
    "Z2 = sample_circle(N2, rng, r=0.5, std=0.02)\n",
    "Z3 = sample_circle(N3, rng, r=0.2, std=0.02)\n",
    "\n",
    "Y = sample_rectangle(M, rng)\n",
    "X = np.r_[Z1, Z2, Z3, Y]\n",
    "plt.scatter(*X.T, s=10, color=\"black\", alpha=0.5, edgecolor=\"none\")\n",
    "plt.gca().axis(\"off\")\n",
    "plt.tight_layout()\n",
    "plt.show()"
   ]
  },
  {
   "cell_type": "code",
   "execution_count": null,
   "id": "c1ab9bab-d582-4a99-9c89-1818701f86dd",
   "metadata": {},
   "outputs": [],
   "source": [
    "%%time\n",
    "max_ks = [1, 10, 100, 1000]\n",
    "max_r = 2*math.sqrt(Miniball(X).squared_radius())\n",
    "\n",
    "plt.rcParams['text.usetex'] = True\n",
    "params = {'mathtext.default': 'regular' }\n",
    "fig, axs = plt.subplots(ncols=len(max_ks), figsize=(14, 14 // len(max_ks)))\n",
    "for i, max_k in enumerate(max_ks):\n",
    "    st_alpha_core = core_alpha(X=X, max_k=max_k, max_r=max_r)\n",
    "    plot_sqrt_persistence(st_alpha_core, axes=axs[i])\n",
    "    # gudhi.plot_persistence_diagram(st_alpha_core.persistence(), axes=axs[i], fontsize=14)\n",
    "    axs[i].set_title(r\"$k_{max}=\" + f\"{max_k}, \" + r\"r_{max}=\" + f\"{max_r:.3f}$\", fontsize=16)\n",
    "fig.tight_layout()\n",
    "plt.show()"
   ]
  },
  {
   "cell_type": "code",
   "execution_count": null,
   "id": "68b0778b-35ed-4880-9e89-ee50b30fc625",
   "metadata": {},
   "outputs": [],
   "source": []
  },
  {
   "cell_type": "markdown",
   "id": "f69048b7-212b-4b40-b878-3a1d14badd8d",
   "metadata": {},
   "source": [
    "## Torus with noise"
   ]
  },
  {
   "cell_type": "code",
   "execution_count": null,
   "id": "84807b59-3ab7-49cd-bf55-b1621c2d8aa1",
   "metadata": {},
   "outputs": [],
   "source": [
    "N = 10_000\n",
    "M = 5_000\n",
    "\n",
    "Z = sample_torus(N, rng, std=0.02)\n",
    "Y = sample_cube(M, rng, lower_left_corner=(-1, -1, -0.25), upper_right_corner=(1, 1, 0.25))\n",
    "X = np.r_[Z, Y]\n",
    "\n",
    "fig = plt.figure()\n",
    "ax = fig.add_subplot(projection=\"3d\")\n",
    "ax.scatter(*X.T, alpha=0.2, color=\"black\", s=5, edgecolor=\"none\")\n",
    "ax.set_aspect(\"equal\")\n",
    "ax.axis(\"off\")\n",
    "plt.show()"
   ]
  },
  {
   "cell_type": "code",
   "execution_count": null,
   "id": "617cda42-019f-4a70-adf8-3ccca76626ce",
   "metadata": {
    "scrolled": true
   },
   "outputs": [],
   "source": [
    "%%time\n",
    "max_ks = [1, 10, 100, 1000]\n",
    "max_r = 2*math.sqrt(Miniball(X).squared_radius())\n",
    "\n",
    "fig, axs = plt.subplots(ncols=len(max_ks), figsize=(14, 14 / len(max_ks)))\n",
    "fig.suptitle(\"Alpha Core Persistence of torus with noise\")\n",
    "for i, max_k in enumerate(max_ks):\n",
    "    st_alpha_core = core_alpha(X=X, max_k=max_k, max_r=max_r)\n",
    "    plot_sqrt_persistence(st_alpha_core, axes=axs[i])\n",
    "    # st_alpha_core = alpha_core(points=X, k=max_k, max_r=max_r)\n",
    "    # gudhi.plot_persistence_diagram(st_alpha_core.persistence(), axes=axs[i])\n",
    "    axs[i].set_title(f\"max_k={max_k}, max_r={max_r:.2f}\")\n",
    "fig.tight_layout()\n",
    "plt.show()"
   ]
  },
  {
   "cell_type": "code",
   "execution_count": null,
   "id": "938c251a-cac7-4f4f-a1c5-0569dc1f7830",
   "metadata": {},
   "outputs": [],
   "source": [
    "from datasets import sample_sphere"
   ]
  },
  {
   "cell_type": "code",
   "execution_count": null,
   "id": "b19ad7ba-ebb6-4811-8f04-8447b2d815f1",
   "metadata": {},
   "outputs": [],
   "source": [
    "N = 50_000\n",
    "M = 5_000\n",
    "\n",
    "Z = sample_sphere(N, rng, std=0.1)\n",
    "Y = sample_cube(M, rng, lower_left_corner=(-1, -1, -1), upper_right_corner=(1, 1, 1))\n",
    "X = np.r_[Z, Y]\n",
    "\n",
    "fig = plt.figure()\n",
    "ax = fig.add_subplot(projection=\"3d\")\n",
    "ax.scatter(*X.T, alpha=0.2, color=\"black\", s=5, edgecolor=\"none\")\n",
    "ax.set_aspect(\"equal\")\n",
    "ax.axis(\"off\")\n",
    "plt.show()"
   ]
  },
  {
   "cell_type": "code",
   "execution_count": null,
   "id": "7c3b4096-b3e2-4775-8665-1ba79c32ceb7",
   "metadata": {},
   "outputs": [],
   "source": [
    "%%time\n",
    "max_ks = [1, 10, 100, 1000]\n",
    "max_r = 2*math.sqrt(Miniball(X).squared_radius())\n",
    "\n",
    "fig, axs = plt.subplots(ncols=len(max_ks), figsize=(14, 14 / len(max_ks)))\n",
    "fig.suptitle(\"Alpha Core Persistence of torus with noise\")\n",
    "for i, max_k in enumerate(max_ks):\n",
    "    st_alpha_core = core_alpha(X=X, max_k=max_k, max_r=max_r)\n",
    "    plot_sqrt_persistence(st_alpha_core, axes=axs[i])\n",
    "    # st_alpha_core = alpha_core(points=X, k=max_k, max_r=max_r)\n",
    "    # gudhi.plot_persistence_diagram(st_alpha_core.persistence(), axes=axs[i])\n",
    "    axs[i].set_title(f\"max_k={max_k}, max_r={max_r:.2f}\")\n",
    "fig.tight_layout()\n",
    "plt.show()"
   ]
  },
  {
   "cell_type": "code",
   "execution_count": null,
   "id": "24077cfd-5fb1-4e2d-8803-0fa30ff67145",
   "metadata": {},
   "outputs": [],
   "source": [
    "N = 50_000\n",
    "M = 5_000\n",
    "Z = sample_flat_torus(N, rng, std=0.1)\n",
    "Y = sample_cube(M, rng, lower_left_corner=(-1, -1, -1, -1), upper_right_corner=(1, 1, 1, 1))\n",
    "X = np.r_[Z, Y]"
   ]
  },
  {
   "cell_type": "code",
   "execution_count": null,
   "id": "48b67ea5-da05-4ba5-9d1c-14b0be7ccd3b",
   "metadata": {},
   "outputs": [],
   "source": [
    "%%time\n",
    "max_ks = [1, 10, 100, 1000]\n",
    "max_r = 2*math.sqrt(Miniball(X).squared_radius())\n",
    "\n",
    "fig, axs = plt.subplots(ncols=len(max_ks), figsize=(14, 14 / len(max_ks)))\n",
    "fig.suptitle(\"Alpha Core Persistence of torus with noise\")\n",
    "for i, max_k in enumerate(max_ks):\n",
    "    st_alpha_core = core_alpha(X=X, max_k=max_k, max_r=max_r)\n",
    "    plot_sqrt_persistence(st_alpha_core, axes=axs[i])\n",
    "    # st_alpha_core = alpha_core(points=X, k=max_k, max_r=max_r)\n",
    "    # gudhi.plot_persistence_diagram(st_alpha_core.persistence(), axes=axs[i])\n",
    "    axs[i].set_title(f\"max_k={max_k}, max_r={max_r:.2f}\")\n",
    "fig.tight_layout()\n",
    "plt.show()"
   ]
  },
  {
   "cell_type": "code",
   "execution_count": null,
   "id": "4f506fc1-aa92-4754-b0bc-a13f44283862",
   "metadata": {},
   "outputs": [],
   "source": []
  }
 ],
 "metadata": {
  "kernelspec": {
   "display_name": "Python 3 (ipykernel)",
   "language": "python",
   "name": "python3"
  },
  "language_info": {
   "codemirror_mode": {
    "name": "ipython",
    "version": 3
   },
   "file_extension": ".py",
   "mimetype": "text/x-python",
   "name": "python",
   "nbconvert_exporter": "python",
   "pygments_lexer": "ipython3",
   "version": "3.11.8"
  }
 },
 "nbformat": 4,
 "nbformat_minor": 5
}
