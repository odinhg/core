{
 "cells": [
  {
   "cell_type": "markdown",
   "id": "34553253-8c64-4d1c-8f74-11ef42ada07a",
   "metadata": {},
   "source": [
    "# Computing the core Čech filtration for a fixed $k$\n",
    "\n",
    "In this notebook, we show how to compute the persistent homology of the core Čech filtration in the simplest case where $k$ is fixed. For $k=1$ we demonstrate that the core Čech filtration is indeed equivalent to the usual Čech filtration by comparing it to the $\\alpha$-complex. Furthermore, we compute the persistent homology of a noisy circle for different values of $k$ using the core Čech filtration."
   ]
  },
  {
   "cell_type": "raw",
   "id": "d93cf8ba-5d30-44e9-9ed9-75547571cd0e",
   "metadata": {},
   "source": [
    "%load_ext line_profiler\n",
    "# %load_ext cython"
   ]
  },
  {
   "cell_type": "code",
   "execution_count": 1,
   "id": "fac5696d-9549-4f2f-b0c8-01678c4adb74",
   "metadata": {},
   "outputs": [],
   "source": [
    "import math\n",
    "import gudhi\n",
    "import numpy as np\n",
    "import matplotlib.pyplot as plt\n",
    "from itertools import combinations\n",
    "from miniball import Miniball\n",
    "from scipy.spatial import KDTree\n",
    "\n",
    "from datasets import sample_circle, sample_rectangle\n",
    "from sklearn.neighbors import NearestNeighbors\n",
    "import warnings\n",
    "warnings.filterwarnings('ignore')"
   ]
  },
  {
   "cell_type": "code",
   "execution_count": 2,
   "id": "a1493a69-0d44-4644-a716-c1674e36f0ec",
   "metadata": {},
   "outputs": [],
   "source": [
    "rng = np.random.default_rng(seed=0)"
   ]
  },
  {
   "cell_type": "markdown",
   "id": "5214e71b-54d1-460f-bae4-834049d8e407",
   "metadata": {},
   "source": [
    "### Compute distances to k-nearest neighbors in X"
   ]
  },
  {
   "cell_type": "code",
   "execution_count": 3,
   "id": "747eba5a-1b37-401d-96e5-e7d9de431eb9",
   "metadata": {},
   "outputs": [],
   "source": [
    "def k_nearest_neighbor_distances(X, k):\n",
    "    kd_tree = KDTree(X)\n",
    "    k_core_distances, _ = kd_tree.query(X, k=k, workers=-1)\n",
    "    return k_core_distances  "
   ]
  },
  {
   "cell_type": "markdown",
   "id": "c0075a42-0d4b-40c4-826f-1dbcb135397b",
   "metadata": {},
   "source": [
    "### Compute filtration values of faces from squared radius and core values"
   ]
  },
  {
   "cell_type": "code",
   "execution_count": 4,
   "id": "7fc44240-2a76-491d-991a-6c10684cb917",
   "metadata": {},
   "outputs": [],
   "source": [
    "def core_value(face, squared_radius, core_values):\n",
    "    max_core = max(core_values[face]) \n",
    "    return max(squared_radius ** 0.5, max_core)"
   ]
  },
  {
   "cell_type": "markdown",
   "id": "4e2f1233-5989-4e0b-817f-1ec7c95f2693",
   "metadata": {},
   "source": [
    "### Compute core value for each points"
   ]
  },
  {
   "cell_type": "code",
   "execution_count": 5,
   "id": "f2f4888f-86e8-4584-9254-1adc605decf0",
   "metadata": {},
   "outputs": [],
   "source": [
    "def vertex_values(X, max_k, max_r):\n",
    "    if max_r is None or max_k <= 1:\n",
    "        return k_nearest_neigbor_distances(X, k=[max_k])\n",
    "    k_core_distances = k_nearest_neigbor_distances(X, np.arange(max_k))\n",
    "    line = np.linspace(max_r, 0, num=max_k)\n",
    "    if max_k>1:\n",
    "        indices = np.argmax(line <= k_core_distances, axis=1)\n",
    "        values = k_core_distances[np.arange(len(k_core_distances)), indices]\n",
    "    else:\n",
    "        values = np.array(k_core_distances)\n",
    "    return values"
   ]
  },
  {
   "cell_type": "markdown",
   "id": "4cf7a37d-9c22-4780-956d-82e7258f5d90",
   "metadata": {},
   "source": [
    "### Compute core simplex tree from a simplex tree filtered by squared radius and a point cloud"
   ]
  },
  {
   "cell_type": "code",
   "execution_count": 6,
   "id": "4989a84c-d5a6-4a9b-b138-fa20d0b837a9",
   "metadata": {},
   "outputs": [],
   "source": [
    "def core_complex(X, st, max_k, max_r=None):\n",
    "    k_core_distances = vertex_values(X, max_k, max_r)\n",
    "    for face, val in st.get_filtration():\n",
    "        st.assign_filtration(face, core_value(np.array(list(face)), val, k_core_distances))\n",
    "    return st"
   ]
  },
  {
   "cell_type": "markdown",
   "id": "e3274b06-3b2b-4fa8-9c89-5fad6bb753ce",
   "metadata": {},
   "source": [
    "### Compute simplex tree of a point cloud filtered by squared radius"
   ]
  },
  {
   "cell_type": "code",
   "execution_count": 7,
   "id": "0889802e-9ba8-4249-95cb-3144688bfa95",
   "metadata": {},
   "outputs": [],
   "source": [
    "def cech_squared_radius(X, max_dim=1):\n",
    "    st = gudhi.SimplexTree()\n",
    "    for dim in range(max_dim+1):\n",
    "        for face in combinations(range(len(X)),dim+1):\n",
    "            val = Miniball(X[list(face)]).squared_radius()\n",
    "            st.insert(face, val)\n",
    "    return st"
   ]
  },
  {
   "cell_type": "markdown",
   "id": "115b30a1-97cc-4948-8b9b-d1b8cce9d39e",
   "metadata": {},
   "source": [
    "### Construct core cech simplex tree"
   ]
  },
  {
   "cell_type": "code",
   "execution_count": 8,
   "id": "ee5436a4-86de-4aec-a0b7-da0903bac654",
   "metadata": {},
   "outputs": [],
   "source": [
    "def core_cech(X, max_k=10, max_r=None, max_dim=1):\n",
    "    st = cech_squared_radius(X, max_dim=max_dim)\n",
    "    return core_complex(X, st, max_k, max_r)"
   ]
  },
  {
   "cell_type": "markdown",
   "id": "9261fc5a-5017-46fb-8ea2-85098d3746c8",
   "metadata": {},
   "source": [
    "### Construct core alpha simplex tree"
   ]
  },
  {
   "cell_type": "code",
   "execution_count": 9,
   "id": "65f0c06d-39b0-4cc2-92df-aac82e9432e1",
   "metadata": {},
   "outputs": [],
   "source": [
    "def core_alpha(X, max_k=10, max_r=None, precision='safe'):\n",
    "    st = gudhi.AlphaComplex(points=X, precision=precision).create_simplex_tree()\n",
    "    return core_complex(X, st, max_k, max_r)"
   ]
  },
  {
   "cell_type": "code",
   "execution_count": 10,
   "id": "23ab17f1-5c09-4525-8184-edba1554c9ee",
   "metadata": {},
   "outputs": [
    {
     "data": {
      "image/png": "[encoded data removed]",
      "text/plain": [
       "<Figure size 640x480 with 1 Axes>"
      ]
     },
     "metadata": {},
     "output_type": "display_data"
    }
   ],
   "source": [
    "N = 60\n",
    "M = 40\n",
    "Z = sample_circle(N, rng, variance=0.005)\n",
    "Y = sample_rectangle(M, rng)\n",
    "X = np.r_[Z, Y]\n",
    "plt.scatter(*X.T)\n",
    "plt.show()"
   ]
  },
  {
   "cell_type": "code",
   "execution_count": 11,
   "id": "b537a7fe-64ef-4c2d-87dc-546fbe3963b0",
   "metadata": {},
   "outputs": [
    {
     "ename": "NameError",
     "evalue": "name 'k_nearest_neigbor_distances' is not defined",
     "output_type": "error",
     "traceback": [
      "\u001b[0;31m---------------------------------------------------------------------------\u001b[0m",
      "\u001b[0;31mNameError\u001b[0m                                 Traceback (most recent call last)",
      "Cell \u001b[0;32mIn[11], line 1\u001b[0m\n\u001b[0;32m----> 1\u001b[0m st_core \u001b[38;5;241m=\u001b[39m \u001b[43mcore_cech\u001b[49m\u001b[43m(\u001b[49m\u001b[43mX\u001b[49m\u001b[38;5;241;43m=\u001b[39;49m\u001b[43mX\u001b[49m\u001b[43m,\u001b[49m\u001b[43m \u001b[49m\u001b[43mmax_dim\u001b[49m\u001b[38;5;241;43m=\u001b[39;49m\u001b[38;5;241;43m2\u001b[39;49m\u001b[43m,\u001b[49m\u001b[43m \u001b[49m\u001b[43mmax_k\u001b[49m\u001b[38;5;241;43m=\u001b[39;49m\u001b[38;5;241;43m1\u001b[39;49m\u001b[43m)\u001b[49m\n\u001b[1;32m      2\u001b[0m st_alpha \u001b[38;5;241m=\u001b[39m core_alpha(X\u001b[38;5;241m=\u001b[39mX, max_k\u001b[38;5;241m=\u001b[39m\u001b[38;5;241m1\u001b[39m)\n",
      "Cell \u001b[0;32mIn[8], line 3\u001b[0m, in \u001b[0;36mcore_cech\u001b[0;34m(X, max_k, max_r, max_dim)\u001b[0m\n\u001b[1;32m      1\u001b[0m \u001b[38;5;28;01mdef\u001b[39;00m \u001b[38;5;21mcore_cech\u001b[39m(X, max_k\u001b[38;5;241m=\u001b[39m\u001b[38;5;241m10\u001b[39m, max_r\u001b[38;5;241m=\u001b[39m\u001b[38;5;28;01mNone\u001b[39;00m, max_dim\u001b[38;5;241m=\u001b[39m\u001b[38;5;241m1\u001b[39m):\n\u001b[1;32m      2\u001b[0m     st \u001b[38;5;241m=\u001b[39m cech_squared_radius(X, max_dim\u001b[38;5;241m=\u001b[39mmax_dim)\n\u001b[0;32m----> 3\u001b[0m     \u001b[38;5;28;01mreturn\u001b[39;00m \u001b[43mcore_complex\u001b[49m\u001b[43m(\u001b[49m\u001b[43mX\u001b[49m\u001b[43m,\u001b[49m\u001b[43m \u001b[49m\u001b[43mst\u001b[49m\u001b[43m,\u001b[49m\u001b[43m \u001b[49m\u001b[43mmax_k\u001b[49m\u001b[43m,\u001b[49m\u001b[43m \u001b[49m\u001b[43mmax_r\u001b[49m\u001b[43m)\u001b[49m\n",
      "Cell \u001b[0;32mIn[6], line 2\u001b[0m, in \u001b[0;36mcore_complex\u001b[0;34m(X, st, max_k, max_r)\u001b[0m\n\u001b[1;32m      1\u001b[0m \u001b[38;5;28;01mdef\u001b[39;00m \u001b[38;5;21mcore_complex\u001b[39m(X, st, max_k, max_r\u001b[38;5;241m=\u001b[39m\u001b[38;5;28;01mNone\u001b[39;00m):\n\u001b[0;32m----> 2\u001b[0m     k_core_distances \u001b[38;5;241m=\u001b[39m \u001b[43mvertex_values\u001b[49m\u001b[43m(\u001b[49m\u001b[43mX\u001b[49m\u001b[43m,\u001b[49m\u001b[43m \u001b[49m\u001b[43mmax_k\u001b[49m\u001b[43m,\u001b[49m\u001b[43m \u001b[49m\u001b[43mmax_r\u001b[49m\u001b[43m)\u001b[49m\n\u001b[1;32m      3\u001b[0m     \u001b[38;5;28;01mfor\u001b[39;00m face, val \u001b[38;5;129;01min\u001b[39;00m st\u001b[38;5;241m.\u001b[39mget_filtration():\n\u001b[1;32m      4\u001b[0m         st\u001b[38;5;241m.\u001b[39massign_filtration(face, core_value(np\u001b[38;5;241m.\u001b[39marray(\u001b[38;5;28mlist\u001b[39m(face)), val, k_core_distances))\n",
      "Cell \u001b[0;32mIn[5], line 3\u001b[0m, in \u001b[0;36mvertex_values\u001b[0;34m(X, max_k, max_r)\u001b[0m\n\u001b[1;32m      1\u001b[0m \u001b[38;5;28;01mdef\u001b[39;00m \u001b[38;5;21mvertex_values\u001b[39m(X, max_k, max_r):\n\u001b[1;32m      2\u001b[0m     \u001b[38;5;28;01mif\u001b[39;00m max_r \u001b[38;5;129;01mis\u001b[39;00m \u001b[38;5;28;01mNone\u001b[39;00m \u001b[38;5;129;01mor\u001b[39;00m max_k \u001b[38;5;241m<\u001b[39m\u001b[38;5;241m=\u001b[39m \u001b[38;5;241m1\u001b[39m:\n\u001b[0;32m----> 3\u001b[0m         \u001b[38;5;28;01mreturn\u001b[39;00m \u001b[43mk_nearest_neigbor_distances\u001b[49m(X, k\u001b[38;5;241m=\u001b[39m[max_k])\n\u001b[1;32m      4\u001b[0m     k_core_distances \u001b[38;5;241m=\u001b[39m k_nearest_neigbor_distances(X, np\u001b[38;5;241m.\u001b[39marange(max_k))\n\u001b[1;32m      5\u001b[0m     line \u001b[38;5;241m=\u001b[39m np\u001b[38;5;241m.\u001b[39mlinspace(max_r, \u001b[38;5;241m0\u001b[39m, num\u001b[38;5;241m=\u001b[39mmax_k)\n",
      "\u001b[0;31mNameError\u001b[0m: name 'k_nearest_neigbor_distances' is not defined"
     ]
    }
   ],
   "source": [
    "st_core = core_cech(X=X, max_dim=2, max_k=1)\n",
    "st_alpha = core_alpha(X=X, max_k=1)"
   ]
  },
  {
   "cell_type": "code",
   "execution_count": null,
   "id": "bb96ac6a-747b-451b-9772-2061bf8ec695",
   "metadata": {},
   "outputs": [],
   "source": [
    "max_r = 2*math.sqrt(Miniball(X).squared_radius())"
   ]
  },
  {
   "cell_type": "code",
   "execution_count": null,
   "id": "929e3854-8364-4d39-9915-b7f236c048bc",
   "metadata": {},
   "outputs": [],
   "source": [
    "st_core = core_cech(X=X, max_dim=2, max_k=1, max_r=max_r)\n",
    "st_alpha = core_alpha(X=X, max_k=20, max_r=max_r)"
   ]
  },
  {
   "cell_type": "code",
   "execution_count": null,
   "id": "e75c6e0e-1696-465a-bf86-a806ea79bb95",
   "metadata": {},
   "outputs": [],
   "source": [
    "max_ks = [1, 2, 4, 8]\n",
    "max_r = 2*math.sqrt(Miniball(X).squared_radius())\n",
    "\n",
    "fig, axs = plt.subplots(ncols=len(max_ks), figsize=(14, 14 / len(max_ks)))\n",
    "fig.suptitle(\"Core Čech\")\n",
    "for i, max_k in enumerate(max_ks):\n",
    "    st_core = core_cech(X, max_dim=2, max_k=max_k, max_r=max_r)\n",
    "    gudhi.plot_persistence_diagram(st_core.persistence(), axes=axs[i])\n",
    "    axs[i].set_title(f\"max_k={max_k}, max_r={max_r:.2f}\")\n",
    "fig.tight_layout()\n",
    "plt.show()"
   ]
  },
  {
   "cell_type": "code",
   "execution_count": null,
   "id": "2f22cff4-68bd-4895-b18c-dd4d1c898d2c",
   "metadata": {},
   "outputs": [],
   "source": [
    "N = 5_000\n",
    "M = 10_000\n",
    "Z = sample_circle(N, rng, r=0.8, variance=0.01)\n",
    "Y = sample_rectangle(M, rng)\n",
    "X = np.r_[Z, Y]\n",
    "plt.scatter(*X.T, s=5, alpha=0.2)\n",
    "plt.show()"
   ]
  },
  {
   "cell_type": "code",
   "execution_count": 12,
   "id": "8a658289-88a4-43ca-a501-fca1bc393ac2",
   "metadata": {},
   "outputs": [
    {
     "ename": "NameError",
     "evalue": "name 'k_nearest_neigbor_distances' is not defined",
     "output_type": "error",
     "traceback": [
      "\u001b[0;31m---------------------------------------------------------------------------\u001b[0m",
      "\u001b[0;31mNameError\u001b[0m                                 Traceback (most recent call last)",
      "Cell \u001b[0;32mIn[12], line 7\u001b[0m\n\u001b[1;32m      5\u001b[0m fig\u001b[38;5;241m.\u001b[39msuptitle(\u001b[38;5;124m\"\u001b[39m\u001b[38;5;124mAlpha Core\u001b[39m\u001b[38;5;124m\"\u001b[39m)\n\u001b[1;32m      6\u001b[0m \u001b[38;5;28;01mfor\u001b[39;00m i, max_k \u001b[38;5;129;01min\u001b[39;00m \u001b[38;5;28menumerate\u001b[39m(max_ks):\n\u001b[0;32m----> 7\u001b[0m     st_alpha_core \u001b[38;5;241m=\u001b[39m \u001b[43mcore_alpha\u001b[49m\u001b[43m(\u001b[49m\u001b[43mX\u001b[49m\u001b[43m,\u001b[49m\u001b[43m \u001b[49m\u001b[43mmax_k\u001b[49m\u001b[38;5;241;43m=\u001b[39;49m\u001b[43mmax_k\u001b[49m\u001b[43m,\u001b[49m\u001b[43m \u001b[49m\u001b[43mmax_r\u001b[49m\u001b[38;5;241;43m=\u001b[39;49m\u001b[43mmax_r\u001b[49m\u001b[43m)\u001b[49m\n\u001b[1;32m      8\u001b[0m     gudhi\u001b[38;5;241m.\u001b[39mplot_persistence_diagram(st_alpha_core\u001b[38;5;241m.\u001b[39mpersistence(), axes\u001b[38;5;241m=\u001b[39maxs[i])\n\u001b[1;32m      9\u001b[0m     axs[i]\u001b[38;5;241m.\u001b[39mset_title(\u001b[38;5;124mf\u001b[39m\u001b[38;5;124m\"\u001b[39m\u001b[38;5;124mmax_k=\u001b[39m\u001b[38;5;132;01m{\u001b[39;00mmax_k\u001b[38;5;132;01m}\u001b[39;00m\u001b[38;5;124m, max_r=\u001b[39m\u001b[38;5;132;01m{\u001b[39;00mmax_r\u001b[38;5;132;01m:\u001b[39;00m\u001b[38;5;124m.2f\u001b[39m\u001b[38;5;132;01m}\u001b[39;00m\u001b[38;5;124m\"\u001b[39m)\n",
      "Cell \u001b[0;32mIn[9], line 3\u001b[0m, in \u001b[0;36mcore_alpha\u001b[0;34m(X, max_k, max_r, precision)\u001b[0m\n\u001b[1;32m      1\u001b[0m \u001b[38;5;28;01mdef\u001b[39;00m \u001b[38;5;21mcore_alpha\u001b[39m(X, max_k\u001b[38;5;241m=\u001b[39m\u001b[38;5;241m10\u001b[39m, max_r\u001b[38;5;241m=\u001b[39m\u001b[38;5;28;01mNone\u001b[39;00m, precision\u001b[38;5;241m=\u001b[39m\u001b[38;5;124m'\u001b[39m\u001b[38;5;124msafe\u001b[39m\u001b[38;5;124m'\u001b[39m):\n\u001b[1;32m      2\u001b[0m     st \u001b[38;5;241m=\u001b[39m gudhi\u001b[38;5;241m.\u001b[39mAlphaComplex(points\u001b[38;5;241m=\u001b[39mX, precision\u001b[38;5;241m=\u001b[39mprecision)\u001b[38;5;241m.\u001b[39mcreate_simplex_tree()\n\u001b[0;32m----> 3\u001b[0m     \u001b[38;5;28;01mreturn\u001b[39;00m \u001b[43mcore_complex\u001b[49m\u001b[43m(\u001b[49m\u001b[43mX\u001b[49m\u001b[43m,\u001b[49m\u001b[43m \u001b[49m\u001b[43mst\u001b[49m\u001b[43m,\u001b[49m\u001b[43m \u001b[49m\u001b[43mmax_k\u001b[49m\u001b[43m,\u001b[49m\u001b[43m \u001b[49m\u001b[43mmax_r\u001b[49m\u001b[43m)\u001b[49m\n",
      "Cell \u001b[0;32mIn[6], line 2\u001b[0m, in \u001b[0;36mcore_complex\u001b[0;34m(X, st, max_k, max_r)\u001b[0m\n\u001b[1;32m      1\u001b[0m \u001b[38;5;28;01mdef\u001b[39;00m \u001b[38;5;21mcore_complex\u001b[39m(X, st, max_k, max_r\u001b[38;5;241m=\u001b[39m\u001b[38;5;28;01mNone\u001b[39;00m):\n\u001b[0;32m----> 2\u001b[0m     k_core_distances \u001b[38;5;241m=\u001b[39m \u001b[43mvertex_values\u001b[49m\u001b[43m(\u001b[49m\u001b[43mX\u001b[49m\u001b[43m,\u001b[49m\u001b[43m \u001b[49m\u001b[43mmax_k\u001b[49m\u001b[43m,\u001b[49m\u001b[43m \u001b[49m\u001b[43mmax_r\u001b[49m\u001b[43m)\u001b[49m\n\u001b[1;32m      3\u001b[0m     \u001b[38;5;28;01mfor\u001b[39;00m face, val \u001b[38;5;129;01min\u001b[39;00m st\u001b[38;5;241m.\u001b[39mget_filtration():\n\u001b[1;32m      4\u001b[0m         st\u001b[38;5;241m.\u001b[39massign_filtration(face, core_value(np\u001b[38;5;241m.\u001b[39marray(\u001b[38;5;28mlist\u001b[39m(face)), val, k_core_distances))\n",
      "Cell \u001b[0;32mIn[5], line 3\u001b[0m, in \u001b[0;36mvertex_values\u001b[0;34m(X, max_k, max_r)\u001b[0m\n\u001b[1;32m      1\u001b[0m \u001b[38;5;28;01mdef\u001b[39;00m \u001b[38;5;21mvertex_values\u001b[39m(X, max_k, max_r):\n\u001b[1;32m      2\u001b[0m     \u001b[38;5;28;01mif\u001b[39;00m max_r \u001b[38;5;129;01mis\u001b[39;00m \u001b[38;5;28;01mNone\u001b[39;00m \u001b[38;5;129;01mor\u001b[39;00m max_k \u001b[38;5;241m<\u001b[39m\u001b[38;5;241m=\u001b[39m \u001b[38;5;241m1\u001b[39m:\n\u001b[0;32m----> 3\u001b[0m         \u001b[38;5;28;01mreturn\u001b[39;00m \u001b[43mk_nearest_neigbor_distances\u001b[49m(X, k\u001b[38;5;241m=\u001b[39m[max_k])\n\u001b[1;32m      4\u001b[0m     k_core_distances \u001b[38;5;241m=\u001b[39m k_nearest_neigbor_distances(X, np\u001b[38;5;241m.\u001b[39marange(max_k))\n\u001b[1;32m      5\u001b[0m     line \u001b[38;5;241m=\u001b[39m np\u001b[38;5;241m.\u001b[39mlinspace(max_r, \u001b[38;5;241m0\u001b[39m, num\u001b[38;5;241m=\u001b[39mmax_k)\n",
      "\u001b[0;31mNameError\u001b[0m: name 'k_nearest_neigbor_distances' is not defined"
     ]
    },
    {
     "data": {
      "image/png": "[encoded data removed]",
      "text/plain": [
       "<Figure size 1400x350 with 4 Axes>"
      ]
     },
     "metadata": {},
     "output_type": "display_data"
    }
   ],
   "source": [
    "max_ks = [1, 10, 100, 1000]\n",
    "max_r = 2*math.sqrt(Miniball(X).squared_radius())\n",
    "\n",
    "fig, axs = plt.subplots(ncols=len(max_ks), figsize=(14, 14 / len(max_ks)))\n",
    "fig.suptitle(\"Alpha Core\")\n",
    "for i, max_k in enumerate(max_ks):\n",
    "    st_alpha_core = core_alpha(X, max_k=max_k, max_r=max_r)\n",
    "    gudhi.plot_persistence_diagram(st_alpha_core.persistence(), axes=axs[i])\n",
    "    axs[i].set_title(f\"max_k={max_k}, max_r={max_r:.2f}\")\n",
    "fig.tight_layout()\n",
    "plt.show()"
   ]
  },
  {
   "cell_type": "code",
   "execution_count": null,
   "id": "a38fa6b7-613b-49c6-9e9f-0c55ad3e6951",
   "metadata": {},
   "outputs": [],
   "source": []
  }
 ],
 "metadata": {
  "kernelspec": {
   "display_name": "Python 3 (ipykernel)",
   "language": "python",
   "name": "python3"
  },
  "language_info": {
   "codemirror_mode": {
    "name": "ipython",
    "version": 3
   },
   "file_extension": ".py",
   "mimetype": "text/x-python",
   "name": "python",
   "nbconvert_exporter": "python",
   "pygments_lexer": "ipython3",
   "version": "3.10.12"
  }
 },
 "nbformat": 4,
 "nbformat_minor": 5
}
