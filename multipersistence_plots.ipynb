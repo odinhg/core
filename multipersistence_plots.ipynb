{
 "cells": [
  {
   "cell_type": "code",
   "execution_count": 16,
   "metadata": {},
   "outputs": [],
   "source": [
    "import multipers as mp\n",
    "import numpy as np\n",
    "from multipers.data import three_annulus\n",
    "from multipers.ml.convolutions import KDE\n",
    "from multipers.filtration import CoreDelaunay\n",
    "import multipers.slicer as mps\n",
    "import matplotlib\n",
    "import matplotlib.pyplot as plt\n",
    "from matplotlib.ticker import MaxNLocator\n",
    "from mpl_toolkits.axes_grid1 import make_axes_locatable"
   ]
  },
  {
   "cell_type": "code",
   "execution_count": 17,
   "metadata": {},
   "outputs": [],
   "source": [
    "font = {'family' : 'serif',\n",
    "        'weight' : 'normal',\n",
    "        'size'   : 28}\n",
    "matplotlib.rc('font', **font)\n",
    "plt.rcParams[\"figure.figsize\"] = (10, 10)\n",
    "\n",
    "def savefig(name, set_aspect=False):\n",
    "    ax = plt.gca()\n",
    "    if set_aspect:\n",
    "        ax.set_aspect('equal', adjustable='box')\n",
    "    if not ax.get_title():  \n",
    "        ax.set_title(\" \")\n",
    "    if not ax.get_xlabel():\n",
    "        ax.set_xlabel(\" \")\n",
    "\n",
    "    for axis in plt.gcf().get_axes():\n",
    "        axis.tick_params(axis='x', pad=12)\n",
    "        axis.tick_params(axis='y', pad=12)\n",
    "\n",
    "\n",
    "    plt.tight_layout()\n",
    "    #plt.show()\n",
    "    plt.savefig(name, bbox_inches=\"tight\")\n",
    "    plt.clf()\n"
   ]
  },
  {
   "cell_type": "code",
   "execution_count": 18,
   "metadata": {},
   "outputs": [],
   "source": [
    "np.random.seed(0)\n",
    "X1 = three_annulus(1000, 1000)\n",
    "X2 = np.load(\"data/clusterable_data.npy\")\n",
    "X3 = np.random.uniform(-1, 1, (1000, 2))\n",
    "np.random.seed(0)\n",
    "X4 = three_annulus(10000, 10000)"
   ]
  },
  {
   "cell_type": "markdown",
   "metadata": {},
   "source": [
    "# Delaunay Core Bifiltration\n",
    "\n",
    "The following code cells generate the plots for the Delaunay core bifiltration example in the paper. The `multipers` library is required."
   ]
  },
  {
   "cell_type": "markdown",
   "metadata": {},
   "source": [
    "## Uniform Noise"
   ]
  },
  {
   "cell_type": "code",
   "execution_count": 19,
   "metadata": {},
   "outputs": [
    {
     "data": {
      "text/plain": [
       "<Figure size 1000x1000 with 0 Axes>"
      ]
     },
     "metadata": {},
     "output_type": "display_data"
    }
   ],
   "source": [
    "plt.scatter(*X3.T, s=10, c=\"black\")\n",
    "savefig(\"delaunay_core_uniform_noise.eps\")"
   ]
  },
  {
   "cell_type": "code",
   "execution_count": 20,
   "metadata": {},
   "outputs": [
    {
     "data": {
      "text/plain": [
       "<Figure size 1000x1000 with 0 Axes>"
      ]
     },
     "metadata": {},
     "output_type": "display_data"
    }
   ],
   "source": [
    "k_max = 200\n",
    "k_step = 1\n",
    "ks = np.arange(1, k_max + 1, k_step)\n",
    "beta = 1\n",
    "\n",
    "st = CoreDelaunay(points=X3, beta=beta, ks=ks)\n",
    "\n",
    "pers = mp.module_approximation(st)\n",
    "box = mp.grids.compute_bounding_box(pers)\n",
    "pers.plot(degree=0, xlabel=\"r\", ylabel=\"k\", min_persistence=0.01, box=box)\n",
    "plt.gca().set_title(\"$H_0$\")\n",
    "savefig(\"delaunay_core_uniform_noise_h0_persistence.eps\")\n",
    "\n",
    "pers.plot(degree=1, xlabel=\"r\", ylabel=\"k\", min_persistence=0.01, box=box)\n",
    "plt.gca().set_ylabel(\"\")\n",
    "plt.gca().set_yticks([])\n",
    "plt.gca().set_title(\"$H_1$\")\n",
    "savefig(\"delaunay_core_uniform_noise_h1_persistence.eps\")"
   ]
  },
  {
   "cell_type": "markdown",
   "metadata": {},
   "source": [
    "## Three Annulus Dataset"
   ]
  },
  {
   "cell_type": "code",
   "execution_count": 21,
   "metadata": {},
   "outputs": [
    {
     "data": {
      "text/plain": [
       "<Figure size 1000x1000 with 0 Axes>"
      ]
     },
     "metadata": {},
     "output_type": "display_data"
    }
   ],
   "source": [
    "plt.scatter(*X1.T, s=10, c=\"black\")\n",
    "savefig(\"delaunay_core_three_annulus.eps\")"
   ]
  },
  {
   "cell_type": "code",
   "execution_count": 22,
   "metadata": {},
   "outputs": [
    {
     "data": {
      "text/plain": [
       "<Figure size 1000x1000 with 0 Axes>"
      ]
     },
     "metadata": {},
     "output_type": "display_data"
    }
   ],
   "source": [
    "k_max = 200\n",
    "k_step = 1\n",
    "ks = np.arange(1, k_max + 1, k_step)\n",
    "beta = 1\n",
    "\n",
    "st = CoreDelaunay(points=X1, beta=beta, ks=ks)\n",
    "\n",
    "pers = mp.module_approximation(st)\n",
    "box = mp.grids.compute_bounding_box(pers)\n",
    "pers.plot(degree=0, xlabel=\"r\", ylabel=\"k\", min_persistence=0.01, box=box)\n",
    "plt.gca().set_title(\"$H_0$\")\n",
    "savefig(\"delaunay_core_three_annulus_h0_persistence.eps\")\n",
    "\n",
    "pers.plot(degree=1, xlabel=\"r\", ylabel=\"k\", min_persistence=0.01, box=box)\n",
    "plt.gca().set_ylabel(\"\")\n",
    "plt.gca().set_yticks([])\n",
    "plt.gca().set_title(\"$H_1$\")\n",
    "savefig(\"delaunay_core_three_annulus_h1_persistence.eps\")"
   ]
  },
  {
   "cell_type": "markdown",
   "metadata": {},
   "source": [
    "## Clusterable Dataset"
   ]
  },
  {
   "cell_type": "code",
   "execution_count": 23,
   "metadata": {},
   "outputs": [
    {
     "data": {
      "text/plain": [
       "<Figure size 1000x1000 with 0 Axes>"
      ]
     },
     "metadata": {},
     "output_type": "display_data"
    }
   ],
   "source": [
    "plt.scatter(*X2.T, s=10, c=\"black\")\n",
    "savefig(\"delaunay_core_clusterdata.eps\")"
   ]
  },
  {
   "cell_type": "code",
   "execution_count": 24,
   "metadata": {},
   "outputs": [
    {
     "data": {
      "text/plain": [
       "<Figure size 1000x1000 with 0 Axes>"
      ]
     },
     "metadata": {},
     "output_type": "display_data"
    }
   ],
   "source": [
    "k_max = 200\n",
    "k_step = 1\n",
    "ks = np.arange(1, k_max + 1, k_step)\n",
    "beta = 1\n",
    "\n",
    "st = CoreDelaunay(points=X2, beta=beta, ks=ks)\n",
    "\n",
    "pers = mp.module_approximation(st)\n",
    "box = mp.grids.compute_bounding_box(pers)\n",
    "pers.plot(degree=0, xlabel=\"r\", ylabel=\"k\", min_persistence=0.01, box=box)\n",
    "plt.gca().set_title(\"$H_0$\")\n",
    "savefig(\"delaunay_core_clusterdata_h0_persistence.eps\")\n",
    "\n",
    "pers.plot(degree=1, xlabel=\"r\", ylabel=\"k\", min_persistence=0.01, box=box)\n",
    "plt.gca().set_ylabel(\"\")\n",
    "plt.gca().set_yticks([])\n",
    "plt.gca().set_title(\"$H_1$\")\n",
    "savefig(\"delaunay_core_clusterdata_h1_persistence.eps\")"
   ]
  },
  {
   "cell_type": "markdown",
   "metadata": {},
   "source": [
    "# Function Delaunay Bifiltration (with codensity function)\n",
    "\n",
    "The following code cells generate the plots for the function Delaunay Bifiltration (with codensity function). Both `function_delaunay` and `mpfree` are required in addition to `multipers`."
   ]
  },
  {
   "cell_type": "markdown",
   "metadata": {},
   "source": [
    "## Uniform Noise"
   ]
  },
  {
   "cell_type": "code",
   "execution_count": 25,
   "metadata": {},
   "outputs": [
    {
     "data": {
      "text/plain": [
       "<Figure size 1000x1000 with 0 Axes>"
      ]
     },
     "metadata": {},
     "output_type": "display_data"
    }
   ],
   "source": [
    "density = KDE(bandwidth=0.5, return_log=True).fit(X3).score_samples(X3)\n",
    "sc = plt.scatter(*X3.T, c = -density, cmap=\"viridis_r\", s=10)\n",
    "divider = make_axes_locatable(sc.axes)\n",
    "cax = divider.append_axes(\"right\", size=\"5%\", pad=0.05)\n",
    "plt.colorbar(sc, cax=cax)\n",
    "savefig(\"function_delaunay_uniform_noise_codensity.eps\")"
   ]
  },
  {
   "cell_type": "code",
   "execution_count": 26,
   "metadata": {},
   "outputs": [
    {
     "data": {
      "text/plain": [
       "<Figure size 1000x1000 with 0 Axes>"
      ]
     },
     "metadata": {},
     "output_type": "display_data"
    }
   ],
   "source": [
    "function_delaunay = mps.from_function_delaunay(X3, -density)\n",
    "\n",
    "# 0-dimensional persistence\n",
    "minimal_presentation = mps.minimal_presentation(function_delaunay, degree = 0)\n",
    "pers = mp.module_approximation(minimal_presentation, direction=[1,0], swap_box_coords=[1])\n",
    "box = mp.grids.compute_bounding_box(pers)\n",
    "pers.plot(0, alpha=1, min_persistence=10e-3, box=box, shapely=True)\n",
    "plt.gca().set_xlabel(\"radius\")\n",
    "plt.gca().set_ylabel(\"log-codensity\")\n",
    "plt.gca().set_title(\"$H_0$\")\n",
    "savefig(\"function_delaunay_uniform_noise_codensity_h0_persistence.eps\")\n",
    "\n",
    "# 1-dimensional persistence\n",
    "minimal_presentation = mps.minimal_presentation(function_delaunay, degree = 1)\n",
    "pers = mp.module_approximation(minimal_presentation, direction=[1,0], swap_box_coords=[1])\n",
    "box = mp.grids.compute_bounding_box(pers)\n",
    "pers.plot(1, alpha=1, min_persistence=10e-3, box=box, shapely=True)\n",
    "plt.gca().set_xlabel(\"radius\")\n",
    "plt.gca().set_ylabel(\"log-codensity\")\n",
    "plt.gca().set_title(\"$H_1$\")\n",
    "savefig(\"function_delaunay_uniform_noise_codensity_h1_persistence.eps\")"
   ]
  },
  {
   "cell_type": "markdown",
   "metadata": {},
   "source": [
    "## Three Annulus Dataset"
   ]
  },
  {
   "cell_type": "code",
   "execution_count": 27,
   "metadata": {},
   "outputs": [
    {
     "data": {
      "text/plain": [
       "<Figure size 1000x1000 with 0 Axes>"
      ]
     },
     "metadata": {},
     "output_type": "display_data"
    }
   ],
   "source": [
    "density = KDE(bandwidth=0.10, return_log=True).fit(X4).score_samples(X4)\n",
    "sc = plt.scatter(*X4.T, c = -density, cmap=\"viridis_r\", s=10)\n",
    "divider = make_axes_locatable(sc.axes)\n",
    "cax = divider.append_axes(\"right\", size=\"5%\", pad=0.05)\n",
    "plt.colorbar(sc, cax=cax)\n",
    "savefig(\"function_delaunay_three_annulus_codensity.eps\")\n"
   ]
  },
  {
   "cell_type": "code",
   "execution_count": 28,
   "metadata": {},
   "outputs": [
    {
     "data": {
      "text/plain": [
       "<Figure size 1000x1000 with 0 Axes>"
      ]
     },
     "metadata": {},
     "output_type": "display_data"
    }
   ],
   "source": [
    "function_delaunay = mps.from_function_delaunay(X4, -density)\n",
    "\n",
    "# 0-dimensional persistence\n",
    "minimal_presentation = mps.minimal_presentation(function_delaunay, degree = 0)\n",
    "pers = mp.module_approximation(minimal_presentation, direction=[1,0], swap_box_coords=[1])\n",
    "box = mp.grids.compute_bounding_box(pers)\n",
    "pers.plot(0, alpha=1, min_persistence=10e-3, box=box, shapely=True)\n",
    "plt.gca().set_xlabel(\"radius\")\n",
    "plt.gca().set_ylabel(\"log-codensity\")\n",
    "plt.gca().set_title(\"$H_0$\")\n",
    "savefig(\"function_delaunay_three_annulus_codensity_h0_persistence.eps\")\n",
    "\n",
    "# 1-dimensional persistence\n",
    "minimal_presentation = mps.minimal_presentation(function_delaunay, degree = 1)\n",
    "pers = mp.module_approximation(minimal_presentation, direction=[1,0], swap_box_coords=[1])\n",
    "box = mp.grids.compute_bounding_box(pers)\n",
    "pers.plot(1, alpha=1, min_persistence=10e-3, box=box, shapely=True)\n",
    "plt.gca().set_xlabel(\"radius\")\n",
    "plt.gca().set_ylabel(\"log-codensity\")\n",
    "plt.gca().set_ylabel(\"\")\n",
    "plt.gca().set_yticks([])\n",
    "plt.gca().set_title(\"$H_1$\")\n",
    "savefig(\"function_delaunay_three_annulus_codensity_h1_persistence.eps\")"
   ]
  },
  {
   "cell_type": "markdown",
   "metadata": {},
   "source": [
    "## Clusterable Dataset"
   ]
  },
  {
   "cell_type": "code",
   "execution_count": 29,
   "metadata": {},
   "outputs": [
    {
     "data": {
      "text/plain": [
       "<Figure size 1000x1000 with 0 Axes>"
      ]
     },
     "metadata": {},
     "output_type": "display_data"
    }
   ],
   "source": [
    "density = KDE(bandwidth=0.01, return_log=True).fit(X2).score_samples(X2)\n",
    "sc = plt.scatter(*X2.T, c = -density, cmap=\"viridis_r\", s=10)\n",
    "divider = make_axes_locatable(sc.axes)\n",
    "cax = divider.append_axes(\"right\", size=\"5%\", pad=0.05)\n",
    "plt.colorbar(sc, cax=cax)\n",
    "savefig(\"function_delaunay_clusterdata_codensity.eps\")"
   ]
  },
  {
   "cell_type": "code",
   "execution_count": 30,
   "metadata": {},
   "outputs": [
    {
     "data": {
      "text/plain": [
       "<Figure size 1000x1000 with 0 Axes>"
      ]
     },
     "metadata": {},
     "output_type": "display_data"
    }
   ],
   "source": [
    "function_delaunay = mps.from_function_delaunay(X2, -density)\n",
    "\n",
    "# 0-dimensional persistence\n",
    "minimal_presentation = mps.minimal_presentation(function_delaunay, degree = 0)\n",
    "pers = mp.module_approximation(minimal_presentation, direction=[1,0], swap_box_coords=[1])\n",
    "box = mp.grids.compute_bounding_box(pers)\n",
    "pers.plot(0, alpha=1, min_persistence=10e-3, box=box, shapely=True)\n",
    "plt.gca().set_xlabel(\"radius\")\n",
    "plt.gca().set_ylabel(\"log-codensity\")\n",
    "plt.gca().set_title(\"$H_0$\")\n",
    "savefig(\"function_delaunay_clusterdata_codensity_h0_persistence.eps\")"
   ]
  },
  {
   "cell_type": "code",
   "execution_count": null,
   "metadata": {},
   "outputs": [],
   "source": []
  }
 ],
 "metadata": {
  "kernelspec": {
   "display_name": "multipers_delaunay_core_test_build",
   "language": "python",
   "name": "python3"
  },
  "language_info": {
   "codemirror_mode": {
    "name": "ipython",
    "version": 3
   },
   "file_extension": ".py",
   "mimetype": "text/x-python",
   "name": "python",
   "nbconvert_exporter": "python",
   "pygments_lexer": "ipython3",
   "version": "3.12.8"
  }
 },
 "nbformat": 4,
 "nbformat_minor": 2
}
