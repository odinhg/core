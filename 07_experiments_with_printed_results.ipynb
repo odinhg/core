{
 "cells": [
  {
   "cell_type": "markdown",
   "id": "34553253-8c64-4d1c-8f74-11ef42ada07a",
   "metadata": {},
   "source": [
    "# Experiments\n",
    "\n",
    "Run this notebook to reproduce the experiments from the paper."
   ]
  },
  {
   "cell_type": "code",
   "execution_count": 1,
   "id": "fac5696d-9549-4f2f-b0c8-01678c4adb74",
   "metadata": {},
   "outputs": [],
   "source": [
    "import math\n",
    "import gudhi\n",
    "import numpy as np\n",
    "from miniball import Miniball\n",
    "\n",
    "import warnings\n",
    "warnings.filterwarnings('ignore')\n",
    "\n",
    "from core import core_alpha, sqrt_persistence, persistence_intervals_in_dimension\n",
    "from datasets import sample_circle, sample_rectangle, sample_torus, sample_cube, sample_flat_torus, sample_sphere\n"
   ]
  },
  {
   "cell_type": "markdown",
   "id": "9261fc5a-5017-46fb-8ea2-85098d3746c8",
   "metadata": {},
   "source": [
    "## Helper Functions\n",
    "\n",
    "Compute alpha-core persistent homology from a point cloud $X$ for multiple values of $s_\\text{max}$."
   ]
  },
  {
   "cell_type": "code",
   "execution_count": 2,
   "id": "c507f91f-5585-4b1e-93fa-78ae36e10c26",
   "metadata": {},
   "outputs": [],
   "source": [
    "def persistence_diagrams(\n",
    "    X, max_ss: list[int] = [1, 10, 100, 1000], \n",
    "    max_r: float | None = -1\n",
    ") -> list[tuple[int, tuple[int, int]]]:\n",
    "    if max_r < 0:\n",
    "        max_r = 2*math.sqrt(Miniball(X).squared_radius())\n",
    "    res = []\n",
    "    for i, max_s in enumerate(max_ss):\n",
    "        max_k = max(1, int((M + N) * max_s))\n",
    "        st = core_alpha(X, max_k=max_k, max_r=max_r)\n",
    "        persistence = sqrt_persistence(st)\n",
    "        res.append(persistence)\n",
    "    return res"
   ]
  },
  {
   "cell_type": "markdown",
   "id": "bf55b842-a366-407d-9716-669f023cd7b3",
   "metadata": {},
   "source": [
    "Compute the bottleneck distance (element-wise) between two lists of persistence diagrams in a given homological dimension:"
   ]
  },
  {
   "cell_type": "code",
   "execution_count": 3,
   "id": "4857988b-e248-4670-8231-6337b29df1db",
   "metadata": {},
   "outputs": [],
   "source": [
    "def bottleneck_distances(pers1, pers2, dim):\n",
    "    assert len(pers1) == len(pers2)\n",
    "    n = len(pers1)\n",
    "    A = np.zeros(n)\n",
    "    for i in range(n):\n",
    "        a = persistence_intervals_in_dimension(pers1[i], dim)\n",
    "        b = persistence_intervals_in_dimension(pers2[i], dim)\n",
    "        bdist = gudhi.bottleneck_distance(a, b)\n",
    "        A[i] = bdist\n",
    "    return A"
   ]
  },
  {
   "cell_type": "markdown",
   "id": "a151b272-3222-4f5f-9b00-3b82674a36f5",
   "metadata": {},
   "source": [
    "### Point Cloud Dataset Generators\n",
    "\n",
    "Functions for generating the datasets."
   ]
  },
  {
   "cell_type": "code",
   "execution_count": 4,
   "id": "2c271bc3-cd85-441b-bc17-8e85e5d8e7af",
   "metadata": {},
   "outputs": [],
   "source": [
    "def circle_with_noise(M, N, sigma, rng=None, seed=0):\n",
    "    if rng is None:\n",
    "        rng = np.random.default_rng(seed=seed)\n",
    "    Z = sample_circle(N, rng, std=sigma)\n",
    "    upper_right_corner = np.maximum(np.max(Z, axis=0), -np.min(Z, axis=0))\n",
    "    Y = sample_rectangle(M, rng, lower_left_corner=-upper_right_corner, upper_right_corner=upper_right_corner)\n",
    "    return np.r_[Z, Y]    "
   ]
  },
  {
   "cell_type": "code",
   "execution_count": 5,
   "id": "ee5fde7c-8327-4895-ac46-922687aeda52",
   "metadata": {},
   "outputs": [],
   "source": [
    "def two_circles_with_noise(M, N, sigma, rng=None, seed=0):\n",
    "    if rng is None:\n",
    "        rng = np.random.default_rng(seed=seed)\n",
    "    N1 = (2 * N) // 3\n",
    "    N2 = N // 3 \n",
    "    \n",
    "    Z1 = sample_circle(N1, rng, r=1, std=sigma)\n",
    "    Z2 = sample_circle(N2, rng, r=0.5, std=sigma)\n",
    "    Z = np.r_[Z1, Z2]\n",
    "    \n",
    "    upper_right_corner = np.maximum(np.max(Z, axis=0), -np.min(Z, axis=0))\n",
    "    Y = sample_rectangle(M, rng, lower_left_corner=-upper_right_corner, upper_right_corner=upper_right_corner)\n",
    "    return np.r_[Z1, Z2, Y]"
   ]
  },
  {
   "cell_type": "code",
   "execution_count": 6,
   "id": "a5bd73f8-7e8a-4b8a-8380-def12b42e983",
   "metadata": {},
   "outputs": [],
   "source": [
    "def embedded_torus(M, N, sigma, rng=None, seed=0):\n",
    "    if rng is None:\n",
    "        rng = np.random.default_rng(seed=seed)\n",
    "    Z = sample_torus(N, rng, a=1, b=3, std=sigma)\n",
    "    upper_right_corner = np.maximum(np.max(Z, axis=0), -np.min(Z, axis=0))\n",
    "    Y = sample_rectangle(M, rng, lower_left_corner=-upper_right_corner, upper_right_corner=upper_right_corner)\n",
    "    return np.r_[Z, Y]"
   ]
  },
  {
   "cell_type": "code",
   "execution_count": 7,
   "id": "6d4bdbbf-550a-4cb0-974f-a9d5232a3b73",
   "metadata": {},
   "outputs": [],
   "source": [
    "def sphere(M, N, sigma, rng=None, seed=0):\n",
    "    if rng is None:\n",
    "        rng = np.random.default_rng(seed=seed)\n",
    "    Z = sample_sphere(N, rng, std=sigma)\n",
    "    upper_right_corner = np.maximum(np.max(Z, axis=0), -np.min(Z, axis=0))\n",
    "    Y = sample_rectangle(M, rng, lower_left_corner=-upper_right_corner, upper_right_corner=upper_right_corner)\n",
    "    return np.r_[Z, Y]"
   ]
  },
  {
   "cell_type": "code",
   "execution_count": 8,
   "id": "a24b6696-d759-4a48-a088-1d5433b1ae71",
   "metadata": {},
   "outputs": [],
   "source": [
    "def clifford_torus(M, N, sigma, rng=None, seed=0):\n",
    "    if rng is None:\n",
    "        rng = np.random.default_rng(seed=seed)\n",
    "    Z = sample_flat_torus(N, rng, std=sigma)\n",
    "    upper_right_corner = np.maximum(np.max(Z, axis=0), -np.min(Z, axis=0))\n",
    "    Y = sample_rectangle(M, rng, lower_left_corner=-upper_right_corner, upper_right_corner=upper_right_corner)\n",
    "    return np.r_[Z, Y]"
   ]
  },
  {
   "cell_type": "markdown",
   "id": "57127157-9f55-4a54-94f7-ebdd066e052a",
   "metadata": {},
   "source": [
    "### Bottleneck Distances\n",
    "\n",
    "The following function compute bottleneck distances between the alpha-core persistence and the ground truth diagrams for a given point cloud dataset generator."
   ]
  },
  {
   "cell_type": "code",
   "execution_count": 9,
   "id": "913eea65-1d38-46c5-b840-b87890d6ff25",
   "metadata": {},
   "outputs": [],
   "source": [
    "def bottleneck_distance_experiment(\n",
    "    Ms, Ns, max_ss=[0, 0.001, 0.01, 0.1], sigma=0.07, max_r=-1, \n",
    "    point_generator=circle_with_noise, seed=0):\n",
    "    rng = np.random.default_rng(seed=seed)\n",
    "    X = point_generator(0, 5, sigma=0, rng=rng)\n",
    "    dimensions = range(X.shape[1])\n",
    "    res = {dim: [] for dim in dimensions}\n",
    "    for M, N in zip(Ms, Ns):\n",
    "        print(f\"M={M}, N={N}\")\n",
    "        X = point_generator(0, M + N, sigma=0, rng=rng)\n",
    "        st_ideal = core_alpha(X, max_k=1, max_r=max_r)\n",
    "        persistence_ideal = sqrt_persistence(st_ideal)    \n",
    "        for max_s in max_ss:\n",
    "            X = point_generator(M, N, sigma, rng=rng)\n",
    "            if max_r is not None:\n",
    "                max_r = 2*math.sqrt(Miniball(X).squared_radius())\n",
    "            max_k = max(1, int((M + N) * max_s))\n",
    "            print(f\"\\tmax_s={max_s} (max_k = {max_k})\")\n",
    "            st = core_alpha(X, max_k=max_k, max_r=max_r)\n",
    "            persistence = sqrt_persistence(st)\n",
    "            for dim in dimensions:\n",
    "                res[dim].append(\n",
    "                    gudhi.bottleneck_distance(\n",
    "                        persistence_intervals_in_dimension(persistence, dim),\n",
    "                        persistence_intervals_in_dimension(persistence_ideal, dim)))\n",
    "    return res\n",
    "        \n",
    "        "
   ]
  },
  {
   "cell_type": "markdown",
   "id": "87e9d23e-ccde-4e71-9b2d-3115b0b0db38",
   "metadata": {},
   "source": [
    "Helper function for printing the results."
   ]
  },
  {
   "cell_type": "code",
   "execution_count": 10,
   "id": "ec5e3346-f990-4111-a26c-588949a51302",
   "metadata": {},
   "outputs": [],
   "source": [
    "def formatted_bottleneck_results(bottleneck_distances, Ms, Ns, max_ss):\n",
    "    res = [f\"Ns={Ns} Ms={Ms} max_ss={max_ss}\"]\n",
    "    for dim in bottleneck_distances.keys():\n",
    "        res.append(f\"Dim {dim} & \" + \" & \".join([f\"{dist:.3f}\" for dist in bottleneck_distances[dim]]))\n",
    "    return res"
   ]
  },
  {
   "cell_type": "markdown",
   "id": "c1347aea-d7be-4311-9115-35b239269f63",
   "metadata": {},
   "source": [
    "Function for running the experiments with a list of different point cloud dataset generators and a list of $s_\\text{max}$."
   ]
  },
  {
   "cell_type": "code",
   "execution_count": 11,
   "id": "0fa3e43e-3261-4c4a-946d-184f09caef56",
   "metadata": {},
   "outputs": [],
   "source": [
    "def run_experiments(\n",
    "    point_generators,\n",
    "    Ms,\n",
    "    Ns,\n",
    "    max_ss,\n",
    "    names=None,\n",
    "    sigma=0.07,\n",
    "    seed=0,\n",
    "    max_r=-1,\n",
    "):\n",
    "    res = []\n",
    "    for idx, generator in enumerate(point_generators):\n",
    "        if names is not None:\n",
    "            name = names[idx]\n",
    "        else:\n",
    "            name = 'Unknown'\n",
    "        print(f\"Running experiments for {name}\")\n",
    "        bottleneck_dists = bottleneck_distance_experiment(\n",
    "            Ms = Ms, Ns=Ns, max_ss=max_ss, point_generator=generator, sigma=sigma, seed=seed, max_r=max_r)\n",
    "        res.append([name] +\n",
    "                   formatted_bottleneck_results(bottleneck_dists, Ms, Ns, max_ss))\n",
    "    return res"
   ]
  },
  {
   "cell_type": "markdown",
   "id": "806ee81a-b488-440e-944f-19b16a1a32d0",
   "metadata": {},
   "source": [
    "### Experiment Configuration"
   ]
  },
  {
   "cell_type": "code",
   "execution_count": 12,
   "id": "38bd93bc-7143-43aa-9df4-d9c85c42a835",
   "metadata": {},
   "outputs": [],
   "source": [
    "Ms = [10_000, 1_000, 100]\n",
    "Ns = [10_000, 10_000, 10_000]\n",
    "max_ss=[0, 0.001, 0.01, 0.1]\n",
    "sigma = 0.07\n",
    "seed = 0\n",
    "point_generators = [circle_with_noise, two_circles_with_noise, sphere, embedded_torus, clifford_torus]\n",
    "names = [\"Circle\", \"Circles\", \"Sphere\", \"Torus 1\", \"Torus 2\"]"
   ]
  },
  {
   "cell_type": "markdown",
   "id": "d0664d99-38e3-4e6c-b0a6-77a29eeac74a",
   "metadata": {},
   "source": [
    "### Run Experiments\n",
    "\n",
    "Run experiments for computing alpha-core persistence along a line."
   ]
  },
  {
   "cell_type": "code",
   "execution_count": 13,
   "id": "575343e0-a007-4d84-b09b-3cc5c62a65b1",
   "metadata": {},
   "outputs": [
    {
     "name": "stdout",
     "output_type": "stream",
     "text": [
      "Running experiments for Circle\n",
      "M=10000, N=10000\n",
      "\tmax_s=0 (max_k = 1)\n",
      "\tmax_s=0.001 (max_k = 20)\n",
      "\tmax_s=0.01 (max_k = 200)\n",
      "\tmax_s=0.1 (max_k = 2000)\n",
      "M=1000, N=10000\n",
      "\tmax_s=0 (max_k = 1)\n"
     ]
    },
    {
     "ename": "KeyboardInterrupt",
     "evalue": "",
     "output_type": "error",
     "traceback": [
      "\u001b[0;31m---------------------------------------------------------------------------\u001b[0m",
      "\u001b[0;31mKeyboardInterrupt\u001b[0m                         Traceback (most recent call last)",
      "File \u001b[0;32m<timed exec>:1\u001b[0m\n",
      "Cell \u001b[0;32mIn[11], line 18\u001b[0m, in \u001b[0;36mrun_experiments\u001b[0;34m(point_generators, Ms, Ns, max_ss, names, sigma, seed, max_r)\u001b[0m\n\u001b[1;32m     16\u001b[0m         name \u001b[38;5;241m=\u001b[39m \u001b[38;5;124m'\u001b[39m\u001b[38;5;124mUnknown\u001b[39m\u001b[38;5;124m'\u001b[39m\n\u001b[1;32m     17\u001b[0m     \u001b[38;5;28mprint\u001b[39m(\u001b[38;5;124mf\u001b[39m\u001b[38;5;124m\"\u001b[39m\u001b[38;5;124mRunning experiments for \u001b[39m\u001b[38;5;132;01m{\u001b[39;00mname\u001b[38;5;132;01m}\u001b[39;00m\u001b[38;5;124m\"\u001b[39m)\n\u001b[0;32m---> 18\u001b[0m     bottleneck_dists \u001b[38;5;241m=\u001b[39m \u001b[43mbottleneck_distance_experiment\u001b[49m\u001b[43m(\u001b[49m\n\u001b[1;32m     19\u001b[0m \u001b[43m        \u001b[49m\u001b[43mMs\u001b[49m\u001b[43m \u001b[49m\u001b[38;5;241;43m=\u001b[39;49m\u001b[43m \u001b[49m\u001b[43mMs\u001b[49m\u001b[43m,\u001b[49m\u001b[43m \u001b[49m\u001b[43mNs\u001b[49m\u001b[38;5;241;43m=\u001b[39;49m\u001b[43mNs\u001b[49m\u001b[43m,\u001b[49m\u001b[43m \u001b[49m\u001b[43mmax_ss\u001b[49m\u001b[38;5;241;43m=\u001b[39;49m\u001b[43mmax_ss\u001b[49m\u001b[43m,\u001b[49m\u001b[43m \u001b[49m\u001b[43mpoint_generator\u001b[49m\u001b[38;5;241;43m=\u001b[39;49m\u001b[43mgenerator\u001b[49m\u001b[43m,\u001b[49m\u001b[43m \u001b[49m\u001b[43msigma\u001b[49m\u001b[38;5;241;43m=\u001b[39;49m\u001b[43msigma\u001b[49m\u001b[43m,\u001b[49m\u001b[43m \u001b[49m\u001b[43mseed\u001b[49m\u001b[38;5;241;43m=\u001b[39;49m\u001b[43mseed\u001b[49m\u001b[43m,\u001b[49m\u001b[43m \u001b[49m\u001b[43mmax_r\u001b[49m\u001b[38;5;241;43m=\u001b[39;49m\u001b[43mmax_r\u001b[49m\u001b[43m)\u001b[49m\n\u001b[1;32m     20\u001b[0m     res\u001b[38;5;241m.\u001b[39mappend([name] \u001b[38;5;241m+\u001b[39m\n\u001b[1;32m     21\u001b[0m                formatted_bottleneck_results(bottleneck_dists, Ms, Ns, max_ss))\n\u001b[1;32m     22\u001b[0m \u001b[38;5;28;01mreturn\u001b[39;00m res\n",
      "Cell \u001b[0;32mIn[9], line 23\u001b[0m, in \u001b[0;36mbottleneck_distance_experiment\u001b[0;34m(Ms, Ns, max_ss, sigma, max_r, point_generator, seed)\u001b[0m\n\u001b[1;32m     20\u001b[0m         persistence \u001b[38;5;241m=\u001b[39m sqrt_persistence(st)\n\u001b[1;32m     21\u001b[0m         \u001b[38;5;28;01mfor\u001b[39;00m dim \u001b[38;5;129;01min\u001b[39;00m dimensions:\n\u001b[1;32m     22\u001b[0m             res[dim]\u001b[38;5;241m.\u001b[39mappend(\n\u001b[0;32m---> 23\u001b[0m                 \u001b[43mgudhi\u001b[49m\u001b[38;5;241;43m.\u001b[39;49m\u001b[43mbottleneck_distance\u001b[49m\u001b[43m(\u001b[49m\n\u001b[1;32m     24\u001b[0m \u001b[43m                    \u001b[49m\u001b[43mpersistence_intervals_in_dimension\u001b[49m\u001b[43m(\u001b[49m\u001b[43mpersistence\u001b[49m\u001b[43m,\u001b[49m\u001b[43m \u001b[49m\u001b[43mdim\u001b[49m\u001b[43m)\u001b[49m\u001b[43m,\u001b[49m\n\u001b[1;32m     25\u001b[0m \u001b[43m                    \u001b[49m\u001b[43mpersistence_intervals_in_dimension\u001b[49m\u001b[43m(\u001b[49m\u001b[43mpersistence_ideal\u001b[49m\u001b[43m,\u001b[49m\u001b[43m \u001b[49m\u001b[43mdim\u001b[49m\u001b[43m)\u001b[49m\u001b[43m)\u001b[49m)\n\u001b[1;32m     26\u001b[0m \u001b[38;5;28;01mreturn\u001b[39;00m res\n",
      "\u001b[0;31mKeyboardInterrupt\u001b[0m: "
     ]
    }
   ],
   "source": [
    "%%time\n",
    "result = run_experiments(\n",
    "    point_generators,\n",
    "    Ms = Ms,\n",
    "    Ns = Ns,\n",
    "    max_ss = max_ss,\n",
    "    sigma=sigma,\n",
    "    seed=seed,\n",
    "    names = names)"
   ]
  },
  {
   "cell_type": "markdown",
   "id": "0597ed21-d49e-4558-a259-bc18bf922b41",
   "metadata": {},
   "source": [
    "Print the results."
   ]
  },
  {
   "cell_type": "code",
   "execution_count": 41,
   "id": "1d5ddc8e-1d9f-49d1-b2a3-807657e08f0d",
   "metadata": {},
   "outputs": [
    {
     "name": "stdout",
     "output_type": "stream",
     "text": [
      "Circle\n",
      "Ns=[10000, 10000, 10000] Ms=[10000, 1000, 100] max_ss=[0, 0.001, 0.01, 0.1]\n",
      "Dim 0 & 0.012 & 0.014 & 0.073 & 0.342 & 0.034 & 0.020 & 0.053 & 0.288 & 0.106 & 0.010 & 0.051 & 0.275\n",
      "Dim 1 & 0.499 & 0.499 & 0.499 & 0.432 & 0.499 & 0.499 & 0.499 & 0.328 & 0.499 & 0.499 & 0.270 & 0.308\n",
      "Circles\n",
      "Ns=[10000, 10000, 10000] Ms=[10000, 1000, 100] max_ss=[0, 0.001, 0.01, 0.1]\n",
      "Dim 0 & 0.125 & 0.125 & 0.096 & 0.357 & 0.125 & 0.114 & 0.092 & 0.340 & 0.064 & 0.125 & 0.099 & 0.341\n",
      "Dim 1 & 0.249 & 0.249 & 0.249 & 0.249 & 0.248 & 0.248 & 0.162 & 0.248 & 0.248 & 0.248 & 0.223 & 0.248\n",
      "Sphere\n",
      "Ns=[10000, 10000, 10000] Ms=[10000, 1000, 100] max_ss=[0, 0.001, 0.01, 0.1]\n",
      "Dim 0 & 0.042 & 0.073 & 0.220 & 0.595 & 0.091 & 0.055 & 0.186 & 0.548 & 0.146 & 0.049 & 0.175 & 0.544\n",
      "Dim 1 & 0.029 & 0.016 & 0.016 & 0.016 & 0.044 & 0.020 & 0.020 & 0.020 & 0.020 & 0.022 & 0.022 & 0.022\n",
      "Dim 2 & 0.475 & 0.475 & 0.475 & 0.475 & 0.470 & 0.470 & 0.340 & 0.470 & 0.465 & 0.423 & 0.283 & 0.465\n",
      "Torus 1\n",
      "Ns=[10000, 10000, 10000] Ms=[10000, 1000, 100] max_ss=[0, 0.001, 0.01, 0.1]\n",
      "Dim 0 & 0.109 & 0.161 & 0.603 & 1.392 & 0.187 & 0.114 & 0.505 & 1.302 & 0.273 & 0.118 & 0.501 & 1.355\n",
      "Dim 1 & 0.977 & 0.977 & 0.977 & 0.977 & 0.968 & 0.968 & 0.545 & 0.968 & 0.967 & 0.684 & 0.549 & 0.967\n",
      "Dim 2 & 0.425 & 0.425 & 0.425 & 0.425 & 0.270 & 0.183 & 0.387 & 0.388 & 0.136 & 0.125 & 0.391 & 0.391\n",
      "Torus 2\n",
      "Ns=[10000, 10000, 10000] Ms=[10000, 1000, 100] max_ss=[0, 0.001, 0.01, 0.1]\n",
      "Dim 0 & 0.086 & 0.131 & 0.388 & 0.901 & 0.147 & 0.089 & 0.315 & 0.895 & 0.178 & 0.092 & 0.300 & 0.879\n",
      "Dim 1 & 0.487 & 0.487 & 0.421 & 0.487 & 0.482 & 0.482 & 0.343 & 0.482 & 0.478 & 0.409 & 0.387 & 0.482\n",
      "Dim 2 & 0.445 & 0.445 & 0.390 & 0.445 & 0.441 & 0.420 & 0.288 & 0.441 & 0.330 & 0.227 & 0.277 & 0.439\n",
      "Dim 3 & 0.207 & 0.207 & 0.207 & 0.207 & 0.207 & 0.207 & 0.207 & 0.178 & 0.207 & 0.207 & 0.207 & 0.207\n"
     ]
    }
   ],
   "source": [
    "print('\\n'.join(['\\n'.join(x) for x in result]))"
   ]
  },
  {
   "cell_type": "markdown",
   "id": "b7d0f6aa-6d31-4dc6-b59e-a0999f400aa5",
   "metadata": {},
   "source": [
    "## Persistence for fixed $s$ (and $k$)\n",
    "\n",
    "Run experiments for computing alpha-core persistence for a fixed $s$."
   ]
  },
  {
   "cell_type": "code",
   "execution_count": 46,
   "id": "dd55cc16-66ef-4199-bd11-77bdb6419f4f",
   "metadata": {},
   "outputs": [
    {
     "name": "stdout",
     "output_type": "stream",
     "text": [
      "Running experiments for Circle\n",
      "M=10000, N=10000\n",
      "\tmax_s=0 (max_k = 1)\n",
      "\tmax_s=0.001 (max_k = 20)\n",
      "\tmax_s=0.01 (max_k = 200)\n",
      "\tmax_s=0.1 (max_k = 2000)\n",
      "M=1000, N=10000\n",
      "\tmax_s=0 (max_k = 1)\n",
      "\tmax_s=0.001 (max_k = 11)\n",
      "\tmax_s=0.01 (max_k = 110)\n",
      "\tmax_s=0.1 (max_k = 1100)\n",
      "M=100, N=10000\n",
      "\tmax_s=0 (max_k = 1)\n",
      "\tmax_s=0.001 (max_k = 10)\n",
      "\tmax_s=0.01 (max_k = 101)\n",
      "\tmax_s=0.1 (max_k = 1010)\n",
      "Running experiments for Circles\n",
      "M=10000, N=10000\n",
      "\tmax_s=0 (max_k = 1)\n",
      "\tmax_s=0.001 (max_k = 20)\n",
      "\tmax_s=0.01 (max_k = 200)\n",
      "\tmax_s=0.1 (max_k = 2000)\n",
      "M=1000, N=10000\n",
      "\tmax_s=0 (max_k = 1)\n",
      "\tmax_s=0.001 (max_k = 11)\n",
      "\tmax_s=0.01 (max_k = 110)\n",
      "\tmax_s=0.1 (max_k = 1100)\n",
      "M=100, N=10000\n",
      "\tmax_s=0 (max_k = 1)\n",
      "\tmax_s=0.001 (max_k = 10)\n",
      "\tmax_s=0.01 (max_k = 101)\n",
      "\tmax_s=0.1 (max_k = 1010)\n",
      "Running experiments for Sphere\n",
      "M=10000, N=10000\n",
      "\tmax_s=0 (max_k = 1)\n",
      "\tmax_s=0.001 (max_k = 20)\n",
      "\tmax_s=0.01 (max_k = 200)\n",
      "\tmax_s=0.1 (max_k = 2000)\n",
      "M=1000, N=10000\n",
      "\tmax_s=0 (max_k = 1)\n",
      "\tmax_s=0.001 (max_k = 11)\n",
      "\tmax_s=0.01 (max_k = 110)\n",
      "\tmax_s=0.1 (max_k = 1100)\n",
      "M=100, N=10000\n",
      "\tmax_s=0 (max_k = 1)\n",
      "\tmax_s=0.001 (max_k = 10)\n",
      "\tmax_s=0.01 (max_k = 101)\n",
      "\tmax_s=0.1 (max_k = 1010)\n",
      "Running experiments for Torus 1\n",
      "M=10000, N=10000\n",
      "\tmax_s=0 (max_k = 1)\n",
      "\tmax_s=0.001 (max_k = 20)\n",
      "\tmax_s=0.01 (max_k = 200)\n",
      "\tmax_s=0.1 (max_k = 2000)\n",
      "M=1000, N=10000\n",
      "\tmax_s=0 (max_k = 1)\n",
      "\tmax_s=0.001 (max_k = 11)\n",
      "\tmax_s=0.01 (max_k = 110)\n",
      "\tmax_s=0.1 (max_k = 1100)\n",
      "M=100, N=10000\n",
      "\tmax_s=0 (max_k = 1)\n",
      "\tmax_s=0.001 (max_k = 10)\n",
      "\tmax_s=0.01 (max_k = 101)\n",
      "\tmax_s=0.1 (max_k = 1010)\n",
      "Running experiments for Torus 2\n",
      "M=10000, N=10000\n",
      "\tmax_s=0 (max_k = 1)\n",
      "\tmax_s=0.001 (max_k = 20)\n",
      "\tmax_s=0.01 (max_k = 200)\n",
      "\tmax_s=0.1 (max_k = 2000)\n",
      "M=1000, N=10000\n",
      "\tmax_s=0 (max_k = 1)\n",
      "\tmax_s=0.001 (max_k = 11)\n",
      "\tmax_s=0.01 (max_k = 110)\n",
      "\tmax_s=0.1 (max_k = 1100)\n",
      "M=100, N=10000\n",
      "\tmax_s=0 (max_k = 1)\n",
      "\tmax_s=0.001 (max_k = 10)\n",
      "\tmax_s=0.01 (max_k = 101)\n",
      "\tmax_s=0.1 (max_k = 1010)\n",
      "CPU times: user 23min 1s, sys: 2.1 s, total: 23min 4s\n",
      "Wall time: 22min 8s\n"
     ]
    }
   ],
   "source": [
    "%%time\n",
    "result_fixed_k = run_experiments(\n",
    "    point_generators,\n",
    "    Ms = Ms,\n",
    "    Ns = Ns,\n",
    "    max_ss = max_ss,\n",
    "    sigma=sigma,\n",
    "    seed=seed,\n",
    "    names = names,\n",
    "    max_r=None,\n",
    ")"
   ]
  },
  {
   "cell_type": "markdown",
   "id": "b3df56c7-569f-4114-922e-dea01b21065e",
   "metadata": {},
   "source": [
    "Print the results."
   ]
  },
  {
   "cell_type": "code",
   "execution_count": 47,
   "id": "0faab31d-f0cc-4771-8733-90eb334158b6",
   "metadata": {},
   "outputs": [
    {
     "name": "stdout",
     "output_type": "stream",
     "text": [
      "Circle\n",
      "Ns=[10000, 10000, 10000] Ms=[10000, 1000, 100] max_ss=[0, 0.001, 0.01, 0.1]\n",
      "Dim 0 & 0.012 & 0.014 & 0.074 & 0.371 & 0.034 & 0.020 & 0.053 & 0.312 & 0.106 & 0.010 & 0.052 & 0.301\n",
      "Dim 1 & 0.499 & 0.499 & 0.499 & 0.393 & 0.499 & 0.499 & 0.499 & 0.357 & 0.499 & 0.499 & 0.263 & 0.338\n",
      "Circles\n",
      "Ns=[10000, 10000, 10000] Ms=[10000, 1000, 100] max_ss=[0, 0.001, 0.01, 0.1]\n",
      "Dim 0 & 0.125 & 0.125 & 0.092 & 0.377 & 0.125 & 0.114 & 0.088 & 0.356 & 0.064 & 0.125 & 0.098 & 0.356\n",
      "Dim 1 & 0.249 & 0.249 & 0.249 & 0.249 & 0.248 & 0.248 & 0.159 & 0.248 & 0.248 & 0.248 & 0.219 & 0.248\n",
      "Sphere\n",
      "Ns=[10000, 10000, 10000] Ms=[10000, 1000, 100] max_ss=[0, 0.001, 0.01, 0.1]\n",
      "Dim 0 & 0.042 & 0.073 & 0.227 & 0.635 & 0.091 & 0.055 & 0.190 & 0.589 & 0.146 & 0.049 & 0.177 & 0.590\n",
      "Dim 1 & 0.029 & 0.016 & 0.016 & 0.016 & 0.044 & 0.020 & 0.020 & 0.020 & 0.020 & 0.022 & 0.022 & 0.022\n",
      "Dim 2 & 0.475 & 0.475 & 0.475 & 0.475 & 0.470 & 0.470 & 0.302 & 0.470 & 0.465 & 0.423 & 0.278 & 0.465\n",
      "Torus 1\n",
      "Ns=[10000, 10000, 10000] Ms=[10000, 1000, 100] max_ss=[0, 0.001, 0.01, 0.1]\n",
      "Dim 0 & 0.109 & 0.161 & 0.614 & 1.475 & 0.187 & 0.114 & 0.518 & 1.381 & 0.273 & 0.118 & 0.509 & 1.420\n",
      "Dim 1 & 0.977 & 0.977 & 0.977 & 0.977 & 0.968 & 0.968 & 0.554 & 0.968 & 0.967 & 0.662 & 0.546 & 0.967\n",
      "Dim 2 & 0.425 & 0.425 & 0.425 & 0.425 & 0.270 & 0.183 & 0.388 & 0.388 & 0.136 & 0.125 & 0.390 & 0.391\n",
      "Torus 2\n",
      "Ns=[10000, 10000, 10000] Ms=[10000, 1000, 100] max_ss=[0, 0.001, 0.01, 0.1]\n",
      "Dim 0 & 0.086 & 0.131 & 0.404 & 0.958 & 0.147 & 0.089 & 0.324 & 0.973 & 0.178 & 0.092 & 0.308 & 0.986\n",
      "Dim 1 & 0.487 & 0.487 & 0.414 & 0.487 & 0.482 & 0.482 & 0.338 & 0.482 & 0.478 & 0.405 & 0.387 & 0.482\n",
      "Dim 2 & 0.445 & 0.445 & 0.372 & 0.445 & 0.441 & 0.411 & 0.303 & 0.441 & 0.330 & 0.227 & 0.291 & 0.439\n",
      "Dim 3 & 0.207 & 0.207 & 0.207 & 0.207 & 0.207 & 0.207 & 0.207 & 0.154 & 0.207 & 0.207 & 0.207 & 0.207\n"
     ]
    }
   ],
   "source": [
    "print('\\n'.join(['\\n'.join(x) for x in result_fixed_k]))"
   ]
  },
  {
   "cell_type": "code",
   "execution_count": null,
   "id": "7fc4999d-9020-4f5f-9bdc-decbf940c08d",
   "metadata": {},
   "outputs": [],
   "source": []
  }
 ],
 "metadata": {
  "kernelspec": {
   "display_name": "Python 3 (ipykernel)",
   "language": "python",
   "name": "python3"
  },
  "language_info": {
   "codemirror_mode": {
    "name": "ipython",
    "version": 3
   },
   "file_extension": ".py",
   "mimetype": "text/x-python",
   "name": "python",
   "nbconvert_exporter": "python",
   "pygments_lexer": "ipython3",
   "version": "3.11.8"
  }
 },
 "nbformat": 4,
 "nbformat_minor": 5
}
